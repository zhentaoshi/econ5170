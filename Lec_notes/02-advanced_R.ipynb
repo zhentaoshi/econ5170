{
    "cells": [
        {
            "cell_type": "markdown",
            "metadata": {},
            "source": [
                "# Advanced R\n",
                "\n",
                "\n",
                "\n",
                "## Introduction\n",
                "\n",
                "In this lecture, we will talk about efficient computation in R.\n",
                "\n",
                "* R is a vector-oriented language. In most cases, vectorization speeds up computation.\n",
                "* We turn to more CPUs for parallel execution to save time if there is no more room to optimize the code to improve the speed.\n",
                "* Servers are accessed remotely. Communicating with a remote cluster is different from operating a local machine.\n",
                "\n",
                "## Vectorization\n",
                "\n",
                "Despite mathematical equivalence, various ways of calculation can perform distinctively in terms of computational speed.\n",
                "\n",
                "Does computational speed matter?\n",
                "For a job that takes less than a minutes, the time difference is not a big deal.\n",
                "But sometimes economic problems can be clumsy. For structural estimation commonly seen in industrial organization, a single estimation can take up to a week. \n",
                "In econometrics, other computational intensive procedures include bootstrap, simulated maximum likelihood and simulated method of moments. Even if a single execution does not take much time, repeating such a procedure for thousands of replications will consume a non-trivial duration.\n",
                "Moreover, machine learning methods that crunch \n",
                "big data usually involve tuning parameters, so the same procedure must be carried out\n",
                "at each point of a grid of tuning parameters. \n",
                "For example, the preferred algorithm in @lin2020 takes 8 hours on a 24-core remote server to find out \n",
                "the best combination of tuning parameters.\n",
                "For those problems, code optimization is essential.\n",
                "\n",
                "Of course, optimizing code takes human time. It is a balance of human time and machine time.\n"
            ]
        },
        {
            "cell_type": "markdown",
            "metadata": {},
            "source": [
                "\n",
                "**Example**\n",
                "\n",
                "In OLS regression, under homoskedasticity\n",
                "\n",
                "$$\n",
                "\\sqrt{n}\\left(\\widehat{\\beta}-\\beta_{0}\\right)\\stackrel{d}{\\to}N\\left(0,\\sigma^{2}\\left(E\\left[x_{i}x_{i}'\\right]\\right)^{-1}\\right)\n",
                "$$\n",
                "\n",
                "where the asymptotic variance can be consistently estimated by \n",
                "$(X'X)^{-1} \\sum_{i=1}^n \\widehat{e}^{2}$. However, under heteroskedasticity\n",
                "\n",
                "$$\n",
                "\\sqrt{n}\\left(\\widehat{\\beta}-\\beta_{0}\\right)\\stackrel{d}{\\to}N\\left(0,E\\left[x_{i}x_{i}'\\right]^{-1}\\mathrm{var}\\left(x_{i}e_{i}\\right)E\\left[x_{i}x_{i}'\\right]^{-1}\\right)\n",
                "$$\n",
                "\n",
                "where $\\mathrm{var}\\left(x_{i}e_{i}\\right)$ can be estimated by \n",
                "\n",
                "$$\n",
                "\\underset{\\mathrm{opt1}}{\\frac{1}{n}\\sum_{i=1}^{n}x_{i}x_{i}'\\widehat{e}_{i}^{2}}=\\underset{\\mathrm{opt2,3}}{\\frac{1}{n}X'DX}=\\underset{\\mathrm{opt 4}}{\\frac{1}{n}\\left(X'D^{1/2}\\right)\\left(D^{1/2}X\\right)}\n",
                "$$\n",
                "\n",
                "where $D$ is a diagonal matrix of $\\left(\\widehat{\\epsilon}_{1}^{2},\\widehat{\\epsilon}_{2,}^{2},\\ldots,\\widehat{\\epsilon}_{n}^{2}\\right)$.\n",
                "There are at least 4 mathematically equivalent ways to compute \n",
                "the \"meat\" of the sandwich form.\n",
                "\n",
                "1. literally sum $\\hat{e}_i^2 x_i x_i'$  over $i=1,\\ldots,n$ one by one.\n",
                "2. $X' \\mathrm{diag}(\\hat{e}^2) X$, with a dense central matrix.\n",
                "3. $X' \\mathrm{diag}(\\hat{e}^2) X$, with a sparse central matrix.\n",
                "4. Do cross product to `X*e_hat`. It takes advantage of the element-by-element operation in R.\n",
                "\n",
                "\n",
                "We first generate the data of binary response and regressors. Due to the discrete nature of the dependent variable, the error term in the linear probability model is heteroskedastic. It is necessary to use the heteroskedastic-robust variance to consistently estimate the asymptotic variance of the OLS estimator. The code chunk below estimates the coefficients and obtains the residual.\n"
            ]
        },
        {
            "cell_type": "code",
            "execution_count": null,
            "metadata": {
                "vscode": {
                    "languageId": "r"
                }
            },
            "outputs": [],
            "source": [
                "# an example of robust variance matrix.\n",
                "# compare the implementation via matrix, Matrix (package) and vecteroization.\n",
                "\n",
                "# n = 5000; Rep = 10; # Matrix is quick, matrix is slow, adding is OK\n",
                "\n",
                "source(\"data_example/lec2.R\")\n",
                "\n",
                "n <- 50\n",
                "Rep <- 1000 \n",
                "\n",
                "data.Xe <- lpm(n) # see the function in \"data_example/lec2.R\"\n",
                "X <- data.Xe$X\n",
                "e_hat <- data.Xe$e_hat\n",
                "\n",
                "XXe2 <- matrix(0, nrow = 2, ncol = 2)\n"
            ]
        },
        {
            "cell_type": "markdown",
            "metadata": {},
            "source": [
                "We run the 4 estimators for the same data, and compare the time.\n",
                "\n"
            ]
        },
        {
            "cell_type": "code",
            "execution_count": null,
            "metadata": {
                "vscode": {
                    "languageId": "r"
                }
            },
            "outputs": [],
            "source": [
                "for (opt in 1:4) {\n",
                "  pts0 <- Sys.time()\n",
                "\n",
                "  for (iter in 1:Rep) {\n",
                "    set.seed(iter) # to make sure that the data used\n",
                "    # different estimation methods are the same\n",
                "\n",
                "\n",
                "    if (opt == 1) {\n",
                "      for (i in 1:n) {\n",
                "        XXe2 <- XXe2 + e_hat[i]^2 * X[i, ] %*% t(X[i, ])\n",
                "      }\n",
                "    } else if (opt == 2) { # the vectorized version with dense matrix\n",
                "      e_hat2_M <- matrix(0, nrow = n, ncol = n)\n",
                "      diag(e_hat2_M) <- e_hat^2\n",
                "      XXe2 <- t(X) %*% e_hat2_M %*% X\n",
                "    } else if (opt == 3) { # the vectorized version with sparse matrix\n",
                "      e_hat2_M <- Matrix::Matrix(0, ncol = n, nrow = n)\n",
                "      diag(e_hat2_M) <- e_hat^2\n",
                "      XXe2 <- t(X) %*% e_hat2_M %*% X\n",
                "    } else if (opt == 4) { # the best vectorization method. No waste\n",
                "      Xe <- X * e_hat\n",
                "      XXe2 <- t(Xe) %*% Xe\n",
                "    }\n",
                "\n",
                "\n",
                "    XX_inv <- solve(t(X) %*% X)\n",
                "    sig_B <- XX_inv %*% XXe2 %*% XX_inv\n",
                "  }\n",
                "  cat(\"n =\", n, \", Rep =\", Rep, \", opt =\", opt, \", time =\", Sys.time() - pts0, \"\\n\")\n",
                "}\n"
            ]
        },
        {
            "cell_type": "markdown",
            "metadata": {},
            "source": [
                "We clearly see the difference in running time, though the 4 methods are mathematically the same.\n",
                "When $n$ is small, `matrix` is fast and `Matrix` is slow; the vectorized version is the fastest.\n",
                "When $n$ is big, `matrix` is slow and `Matrix` is fast; the vectorized version is still the fastest.\n",
                "\n",
                "In this simulation exercise, we repeat the procedure many times to make the time comparison more evident, for a single execution takes very short time in this simple operation. A real-data example is in `data_example/IPUMS.R` with  234 thousand observations, where the time difference is dramatic but the intuitive solution indeed does not take much time. \n",
                "It demonstrates the usefulness of vectorization. Vectorization can \n",
                "significantly saves computing time in more complicated operations, for example, in \n",
                "heteroskedastic and autocorrelation consistent variance estimation (HAC)\n",
                "in econometrics which involves many layers of matrices.\n",
                "\n",
                "\n",
                "\n",
                "## Efficient Loop\n",
                "\n",
                "R was the heir of S, an old language. R evolves with packages that are designed to \n",
                "adapt to new big data environment. Many examples can be found in @wickham2016r. \n",
                "Here we introduce [`plyr`](http://plyr.had.co.nz/). \n",
                "\n",
                "In standard `for` loops, we have to do a lot of housekeeping work. [Hadley Wickham](http://had.co.nz/)'s `plyr` simplifies the job and facilitates parallelization.\n",
                "\n",
                "**Example**\n",
                "\n",
                "Here we calculate the empirical coverage probability of a Poisson distribution of degrees of freedom 2. We first write a user-defined function `CI` for confidence interval, which was used in the last lecture.\n",
                "\n",
                "This is a standard `for` loop.\n"
            ]
        },
        {
            "cell_type": "code",
            "execution_count": null,
            "metadata": {
                "vscode": {
                    "languageId": "r"
                }
            },
            "outputs": [],
            "source": [
                "Rep <- 100000\n",
                "sample_size <- 1000\n",
                "mu <- 2\n",
                "\n",
                "source(\"data_example/lec2.R\")\n",
                "# append a new outcome after each loop\n",
                "pts0 <- Sys.time() # check time\n",
                "for (i in 1:Rep) {\n",
                "  x <- rpois(sample_size, mu)\n",
                "  bounds <- CI(x)\n",
                "  out_i <- ((bounds$lower <= mu) & (mu <= bounds$upper))\n",
                "  if (i == 1) {\n",
                "    out <- out_i\n",
                "  } else {\n",
                "    out <- c(out, out_i)\n",
                "  }\n",
                "}\n",
                "\n",
                "pts1 <- Sys.time() - pts0 # check time elapse\n",
                "cat(\"loop without pre-definition takes\", pts1, \"seconds\\n\")\n",
                "\n",
                "\n",
                "# pre-define a container\n",
                "out <- rep(0, Rep)\n",
                "pts0 <- Sys.time() # check time\n",
                "for (i in 1:Rep) {\n",
                "  x <- rpois(sample_size, mu)\n",
                "  bounds <- CI(x)\n",
                "  out[i] <- ((bounds$lower <= mu) & (mu <= bounds$upper))\n",
                "}\n",
                "\n",
                "pts1 <- Sys.time() - pts0 # check time elapse\n",
                "cat(\"loop with pre-definition takes\", pts1, \"seconds\\n\")\n"
            ]
        },
        {
            "cell_type": "markdown",
            "metadata": {},
            "source": [
                "Pay attention to the line `out = rep(0, Rep)`. It *pre-defines* a vector `out` to be filled by\n",
                "`out[i] = ( ( bounds$lower <= mu  ) & (mu <= bounds$upper) )`. The computer opens a continuous patch of memory for the vector `out`. When new result comes in, the old element is replaced. If we do not pre-define `out`\n",
                "but append one more element in each loop, the length of `out` will change in each replication and\n",
                "every time a new patch of memory will be assigned to store it. The latter approach will spend much more time just to locate the vector in the memory.\n",
                "\n",
                "`out` is the result container. In a `for` loop, we pre-define a container, and replace the elements\n",
                "of the container in each loop by explicitly calling the index.\n",
                "\n",
                "In contrast, a `plyr` loop saves the house keeping chores, and makes it easier to parallelize. In the example below, we encapsulate the chunk in the `for` loop as a new function `capture`, and run the replication via `__ply`.\n",
                "`__ply` is a family of functions. `ldply` here means that the input is a list (`l`) and the output is a data frame (`d`) .\n"
            ]
        },
        {
            "cell_type": "code",
            "execution_count": null,
            "metadata": {
                "vscode": {
                    "languageId": "r"
                }
            },
            "outputs": [],
            "source": [
                "library(plyr)\n",
                "\n",
                "capture <- function(i) {\n",
                "  x <- rpois(sample_size, mu)\n",
                "  bounds <- CI(x)\n",
                "  return((bounds$lower <= mu) & (mu <= bounds$upper))\n",
                "}\n",
                "\n",
                "pts0 <- Sys.time() # check time\n",
                "out <- ldply(.data = 1:Rep, .fun = capture)\n",
                "\n",
                "pts1 <- Sys.time() - pts0 # check time elapse\n",
                "cat(\"plyr loop takes\", pts1, \"seconds\\n\")\n"
            ]
        },
        {
            "cell_type": "markdown",
            "metadata": {},
            "source": [
                "This example is so simple that the advantage of `plyr` is not dramatic. The difference in coding will be noticeable in complex problems with big data frames.\n",
                "In terms of speed, `plyr` does not run much faster than a `for` loop. They are of similar performance.\n",
                "Parallel computing will be our next topic. It is quite easy to implement parallel execution with `plyr`---we just need to change one argument in the function.\n",
                "\n",
                "## Parallel Computing\n",
                "\n",
                "Parallel computing becomes essential when the data size is beyond the storage of a single computer, for example  @li2018embracing.\n",
                "Here we explore the speed gain of parallel computing on a multicore machine.\n",
                "\n",
                "Here we introduce how to coordinate multiple cores on a single computer. \n",
                "The packages `foreach` and `doParallel` are useful for parallel computing.\n",
                "Below is the basic structure. `registerDoParallel(number)` prepares a few CPU cores\n",
                "to accept incoming jobs.\n"
            ]
        },
        {
            "cell_type": "code",
            "execution_count": null,
            "metadata": {
                "vscode": {
                    "languageId": "r"
                }
            },
            "outputs": [],
            "source": [
                "library(plyr); library(foreach); library(doParallel)\n",
                "\n",
                "registerDoParallel(a_number) # opens specified number of CPUs\n",
                "\n",
                "out <- foreach(icount(Rep), .combine = option) %dopar% {\n",
                "  my_expressions\n",
                "}\n"
            ]
        },
        {
            "cell_type": "markdown",
            "metadata": {},
            "source": [
                "If we have two CPUs running simultaneously, in theory we can cut the time to a half of that on a single CPU. Is that what happening in practice?\n",
                "\n",
                "**Example**\n",
                "\n",
                "Compare the speed of a parallel loop and a single-core sequential loop.\n"
            ]
        },
        {
            "cell_type": "code",
            "execution_count": null,
            "metadata": {
                "vscode": {
                    "languageId": "r"
                }
            },
            "outputs": [],
            "source": [
                "library(foreach)\n",
                "library(doParallel)\n",
                "\n",
                "registerDoParallel(2) # open 2 CPUs\n",
                "\n",
                "pts0 <- Sys.time() # check time\n",
                "\n",
                "out <- foreach(icount(Rep), .combine = c) %dopar% {\n",
                "  capture()\n",
                "}\n",
                "\n",
                "pts1 <- Sys.time() - pts0 # check time elapse\n",
                "cat(\"parallel loop takes\", pts1, \"seconds\\n\")\n"
            ]
        },
        {
            "cell_type": "markdown",
            "metadata": {},
            "source": [
                "Surprisingly, the above code block of parallel computing runs even more slowly.\n",
                "It is because the task in each loop can be done in very short time.\n",
                "In contrast, the code chunk below will tell a different story.\n",
                "There the time in each loop is non-trivial,\n",
                "and then parallelism dominates the overhead of the CPU communication.\n",
                "The only difference between the two implementations below is \n",
                "that the first uses `%dopar%` and the latter uses `%do%`.\n"
            ]
        },
        {
            "cell_type": "code",
            "execution_count": null,
            "metadata": {
                "vscode": {
                    "languageId": "r"
                }
            },
            "outputs": [],
            "source": [
                "Rep <- 200\n",
                "sample_size <- 2000000\n",
                "\n",
                "registerDoParallel(8) # change the number of open CPUs according to\n",
                "# the specification of your computer\n",
                "\n",
                "pts0 <- Sys.time() # check time\n",
                "out <- foreach(icount(Rep), .combine = c) %dopar% {\n",
                "  capture()\n",
                "}\n",
                "\n",
                "cat(\"8-core parallel loop takes\", Sys.time() - pts0 , \"seconds\\n\")\n",
                "\n",
                "pts0 <- Sys.time()\n",
                "out <- foreach(icount(Rep), .combine = c) %do% {\n",
                "  capture()\n",
                "}\n",
                "\n",
                "cat(\"single-core loop takes\", Sys.time() - pts0 , \"seconds\\n\")\n"
            ]
        },
        {
            "cell_type": "markdown",
            "metadata": {},
            "source": [
                "## Cloud Computing\n",
                "\n",
                "Investing money from our own pocket to an extremely powerful laptop to conduct heavy-lifting computational work\n",
                "is unnecessary. (i) We do not run these long jobs every day, it is more cost efficient\n",
                "to share a workhorse. (ii) We cannot keep our laptop always on when we move it\n",
                "around. The right solution is cloud computing on a server.\n",
                "\n",
                "Many of us have experience with cloud storage, such as Dropbox and Baidu Netdisk. \n",
                "Few people are exposed to cloud computing. However, no fundamental difference lies between local and cloud computing.\n",
                "We prepare in the cloud serve the data and code, open a shell for communication, run the code, and collect the results.\n",
                "One potential obstacle is dealing with a command-line-based operation system.\n",
                "Such command line tools is the norm of life two or three decades ago, but today we mostly\n",
                "work in a graphic operating system like Windows or OSX.\n",
                "For Windows users (I am one of them), I recommend `Git Bash` as a shell, and [`WinSCP`](http://winscp.net/eng/download.php), a graphic interface for input and output.\n",
                "\n",
                "Cloud computing also provides a strong justification for open-source languages such as R or Python. These open-source languages can be installed on as many remote serves as the resource permits. In contrast, proprietary software will be prohibitively expensive for server licensing.\n",
                "\n",
                "\n",
                "\n",
                "\n",
                "### Command Line\n",
                "\n",
                "Most servers run Unix/Linux operation system.\n",
                "Here are a few commands for basic operations.\n",
                "\n",
                "* `mkdir`: make directory\n",
                "* `cd`: change directory\n",
                "* `copy`: copy files\n",
                "* `top`: check login status\n",
                "* `screen`: a separated screen for isolation\n",
                "* `ssh`: user@address\n",
                "* start a program\n",
                "\n",
                "Our department's computation infrastructure has been improving.\n",
                "A server dedicated to professors is a 32-core machine. Students also have \n",
                "access to a powerful multi-core computer.\n",
                "\n",
                "\\begin{figure}\n",
                "\\centering\n",
                "\\includegraphics[width = 15cm]{graph/econ_super}\n",
                "\\caption{Log into \\texttt{econsuper} and check CPU with \\texttt{lscpu} }\n",
                "\\end{figure}\n",
                "\n",
                "1. Log in `econsuper.econ.cuhk.edu.hk`;\n",
                "2. Upload R scripts and data to the server;\n",
                "3. In a shell, run `R --vanilla <file_name.R> result_file_name.out`;\n",
                "4. To run a command in the background, add `&` at the end of the above command.\n",
                "\n",
                "This example comes from @lin2020. As a demonstration, we only use 15% of the data and \n",
                "a sparse grid of tuning parameters. It makes about 9 minutes with 24 cores.\n"
            ]
        },
        {
            "cell_type": "code",
            "execution_count": null,
            "metadata": {
                "vscode": {
                    "languageId": "r"
                }
            },
            "outputs": [],
            "source": [
                "ssh ztshi@econsuper.econ.cuhk.edu.hk\n",
                "cd data_example\n",
                "R --vanilla <Beijing_housing_gbm.R> GBM_BJ.out & \n"
            ]
        },
        {
            "cell_type": "markdown",
            "metadata": {},
            "source": [
                "![econ_super](graph/econ_super_top.png)\n",
                "\n"
            ]
        },
        {
            "cell_type": "markdown",
            "metadata": {},
            "source": [
                "\n",
                "### RStudio Server\n",
                "\n",
                "The command line shells lack a graphic interface for interactive data analysis. \n",
                "[RStudio server](https://rstudio.com/products/rstudio/#rstudio-server) offers a local-like\n",
                "environment via a web browser to communicate with a remote server. \n",
                "The remote server can be specified for users' need.\n",
                "\n",
                "\n",
                "* `RStudio Cloud` is a free service to facilitate teaching and demonstration. The underlying computation unit is \n",
                "too weak to execute serious tasks.\n",
                "* `Econsuper` is our department's service, which resembles a workplace environment in a small company. We can contact the technicians for our needs. The service is always online (with VPN connection), and much more powerful than the \n",
                "best local computer we can afford.\n",
                "* `Amazon Web Service Cloud` is commercial service that can be tailored according to one's budget, from tiny demonstrative display to big enterprise business applications.\n",
                "\n",
                "![AWS](graph/AWS.png)\n"
            ]
        },
        {
            "cell_type": "markdown",
            "metadata": {},
            "source": [
                "\n",
                "\n",
                "## Graphics\n",
                "\n",
                "An English cliché says \"One picture is worth ten thousand words\".\n",
                "John Tukey, a renowned mathematical statistician, was one of the pioneers of statistical graphs\n",
                "in the computer era. Nowadays, powerful software is able to produce dazzling statistical graphs,\n",
                "sometimes web-based and interactive. Outside of academia, journalism hooks a wide readership with\n",
                "professional data-based graphs. New York Times and The Economists are first-rate examples;\n",
                "South China Morning Post sometimes also does a respectable job.\n",
                "A well designed statistical graph can deliver an intuitive and powerful message.\n",
                "I consider graph prior to table when writing a research report or an academic paper.\n",
                "Graph is lively and engaging. Table is tedious and boring.\n",
                "\n",
                "We have seen an example of R graph in the OLS regression linear example in Lecture 1.\n",
                "`plot` is a generic command for graphs, and is the default R graphic engine.\n",
                "It is capable of producing preliminary statistical graphs.\n",
                "\n",
                "Over the years, developers all over the world have had many proposals for\n",
                "more sophisticated statistical graphs. Hadley Wickham's \n",
                "`ggplot2` is among the most successful. \n",
                "\n",
                "`ggplot2` is an advanced graphic system that generates high-quality statistical graphs.\n",
                "It is not possible to cover it in a lecture. Fortunately, the author wrote a comprehensive reference\n",
                "[**ggplot2 book**](http://link.springer.com/book/10.1007%2F978-0-387-98141-3),\n",
                "which can be downloaded via the CUHK campus network (VPN needed).\n",
                "\n",
                "`ggplot2` accommodates data frames of a particular format. `reshape2` is a package that helps prepare the data frames for `ggplot2`.\n",
                "\n",
                "The workflow of ggplot is to add the elements in a graph one by one, and then print out\n",
                "the graph all together.\n",
                "In contrast, `plot` draws the main graph at first, and then adds the supplementary elements later.\n",
                "\n",
                "`ggplot2` is particularly good at drawing multiple graphs, either of the same pattern or of\n",
                "different patterns. Multiple subgraphs convey rich information and easy comparison.\n",
                "\n",
                "\n",
                "**Example**\n",
                "\n",
                "Plot the density of two estimators under three different data generating processes.\n",
                "This is an example to generate subgraphs of the same pattern.\n"
            ]
        },
        {
            "cell_type": "code",
            "execution_count": null,
            "metadata": {
                "vscode": {
                    "languageId": "r"
                }
            },
            "outputs": [],
            "source": [
                "load(\"data_example/big150.Rdata\")\n",
                "library(ggplot2)\n",
                "library(reshape2)\n",
                "\n",
                "big150_1 <- big150[, c(\"typb\", \"b1\", \"b1_c\")]\n",
                "print(head(big150_1))\n",
                "\n",
                "big150_1 <- melt(big150_1, id.vars = \"typb\", measure.vars = c(\"b1\", \"b1_c\"))\n",
                "names(big150_1)[2] <- c(\"estimator\")\n",
                "print(head(big150_1))\n",
                "\n",
                "p1 <- ggplot(big150_1)\n",
                "p1 <- p1 + geom_area(\n",
                "  stat = \"density\", alpha = .25,\n",
                "  aes(x = value, fill = estimator), position = \"identity\"\n",
                ")\n",
                "p1 <- p1 + facet_grid(. ~ typb)\n",
                "p1 <- p1 + geom_vline(xintercept = 0)\n",
                "p1 <- p1 + theme_bw()\n",
                "p1 <- p1 + theme(\n",
                "  strip.text = element_text(size = 12),\n",
                "  axis.text = element_text(size = 12)\n",
                ")\n",
                "print(p1)\n"
            ]
        },
        {
            "cell_type": "markdown",
            "metadata": {},
            "source": [
                "The function `ggplot` specifies which dataset to use for the graph. `geom_***` determines the shape to draw, for example scatter dots, lines, curves or areas. `theme` is to tune the supplementary elements like the background, the size and font of the axis text and so on.\n",
                "\n",
                "\n",
                "**Example**\n",
                "\n",
                "This example aligns two graphs of different patterns in one page.\n",
                "Similar graphs appear in @shi2018structural.\n"
            ]
        },
        {
            "cell_type": "code",
            "execution_count": null,
            "metadata": {
                "vscode": {
                    "languageId": "r"
                }
            },
            "outputs": [],
            "source": [
                "# graph packages\n",
                "library(lattice)\n",
                "library(ggplot2)\n",
                "library(reshape2)\n",
                "library(gridExtra)\n",
                "\n",
                "load(\"data_example/multigraph.Rdata\") # load data\n",
                "\n",
                "\n",
                "# unify the theme in the two graphs\n",
                "theme1 <- theme_bw() + theme(\n",
                "  axis.title.x = element_blank(),\n",
                "  strip.text = element_text(size = 12),\n",
                "  axis.text = element_text(size = 12),\n",
                "  legend.position = \"bottom\", legend.title = element_blank()\n",
                ")\n",
                "\n",
                "# sub-graph 1\n",
                "d1 <- data.frame(month = 1:480, m = m_vec)\n",
                "p1 <- qplot(x = month, y = m, data = d1, geom = \"line\")\n",
                "p1 <- p1 + theme1 + ylab(\"fraction of chartists\")\n",
                "\n",
                "\n",
                "# sug-graph 2\n",
                "d2$month <- 1:480\n",
                "p2 <- ggplot(d2)\n",
                "p2 <- p2 + geom_line(aes(x = month, y = value, col = variable))\n",
                "p2 <- p2 + theme1 + ylab(\"price and fundamental\")\n",
                "\n",
                "# generate the grahp\n",
                "grid.arrange(p1, p2, nrow = 2)\n"
            ]
        },
        {
            "cell_type": "markdown",
            "metadata": {},
            "source": [
                "In order to unify the theme of the two distinctive subgraphs,\n",
                "we define an object `theme1` and apply it in both graphic objects\n",
                "`p1` and `p2`.\n",
                "\n",
                "### Interactive Graph\n",
                "\n",
                "In the folder of `data_example`, we give a preliminary example \n",
                "of `flexdashboard`. It is very easy to convert a ggplot2 graph \n",
                "into an HTML interactive graph by `plotly::ggplotly()`.\n",
                "\n",
                "\n",
                "\n",
                "### Future writing plan\n",
                "\n",
                "* Shiny app [tutorial](https://shiny.rstudio.com/tutorial/). I have included a shiny app in `data_example/shiny`.\n",
                "\n",
                "\n",
                "\n",
                "## Reading\n",
                "\n",
                "Wickham and Grolemund: Ch 3, 10, 11, 21, and 26-30\n",
                "\n",
                "\n",
                "## References\n"
            ]
        }
    ],
    "metadata": {
        "anaconda-cloud": "",
        "kernelspec": {
            "display_name": "R",
            "langauge": "R",
            "name": "ir"
        },
        "language_info": {
            "codemirror_mode": "r",
            "file_extension": ".r",
            "mimetype": "text/x-r-source",
            "name": "R",
            "pygments_lexer": "r",
            "version": "3.4.1"
        }
    },
    "nbformat": 4,
    "nbformat_minor": 1
}
