{
    "cells": [
        {
            "cell_type": "markdown",
            "metadata": {},
            "source": [
                "# Simulation\n",
                "\n"
            ]
        },
        {
            "cell_type": "code",
            "execution_count": null,
            "metadata": {
                "vscode": {
                    "languageId": "r"
                }
            },
            "outputs": [],
            "source": [
                "library(magrittr)\n",
                "library(tibble)\n",
                "library(plyr)\n",
                "set.seed(888)"
            ]
        },
        {
            "cell_type": "markdown",
            "metadata": {},
            "source": [
                "Probability theory has an infamous inception for its association with gambling.\n",
                "Monte Carlo, the European casino capital, is another unfortunate presence.\n",
                "However, naming it Macau simulation or Hong Kong Jockey Club simulation does not make me feel any better.\n",
                "I decide to simply call it \"simulation\".\n",
                "\n",
                "Simulation has been widely used for (i) checking finite-sample performance of asymptotic theory; (ii) bootstrap, an automated data-driven inference procedure;\n",
                "(iii) generating non-standard distributions; (iv) approximating integrals with no analytic expressions. In this lecture, we will focus on (i) and (ii), whereas (iii) and (iv)\n",
                "will be deferred to the next lecture on integration.\n",
                "\n",
                "From now on, we will start to write script. A script is a piece of code for a particular\n",
                "purpose. A script of thousands of lines is not written from the beginning\n",
                "to the end; we develop it recursively. We cut a big job into small manageable tasks.\n",
                "Write a small piece, test it, and encapsulate it into a user-defined function\n",
                "whenever necessary.\n",
                "Small pieces are integrated by the super structure. This is just like building an Airbus 380.\n",
                "The engines and wings are made in UK, the fuselage is made in Germany and so on.\n",
                "All pieces are assembled in Toulouse, France, and then the giant steel bird can fly.\n",
                "Finally, add comments to the script to facilitate\n",
                "readability. Without comments you will forget\n",
                "what you did when you open the script again one month later.\n",
                "\n",
                "\n",
                "**Example**\n",
                "\n",
                "Zu Chongzhi (429--500 AD), an ancient Chinese mathematician, calculated $\\pi$ being between 3.1415926 and 3.1415927, which\n",
                "for 900 years held the world record of the most accurate $\\pi$.\n",
                "He used a deterministic approximation algorithm.\n",
                " Now imagine that we present to Zu Chongzhi, with full respect and admiration,\n",
                "a modern computer. How can he achieve a better approximation?\n"
            ]
        },
        {
            "cell_type": "code",
            "execution_count": null,
            "metadata": {
                "vscode": {
                    "languageId": "r"
                }
            },
            "outputs": [],
            "source": [
                "require(plotrix)\n",
                "require(grid)\n",
                "\n",
                "plot(c(-1, 1), c(-1, 1), type = \"n\", asp = 1, xlab = \"x\", ylab = \"y\")\n",
                "rect(-1, -1, 1, 1)\n",
                "draw.circle(0, 0, 1)\n",
                "points(x = runif(100) * 2 - 1, y = runif(100) * 2 - 1, pch = 20, col = \"blue\")\n"
            ]
        },
        {
            "cell_type": "markdown",
            "metadata": {},
            "source": [
                "Standing on the shoulder of laws of large numbers, $\\pi$ can be approximated by a stochastic algorithm. Since\n",
                "\n",
                "$$\n",
                "\\frac{\\pi r^{2}}{\\left(2r\\right)^{2}}=E\\left[\\boldsymbol{1}\\left\\{ x^{2}+y^{2}\\leq1\\right\\} \\right],\n",
                "$$\n",
                "\n",
                "it implies  $\\pi=4\\times E[ 1 \\{  x^{2}+y^{2}\\leq1 \\}]$. The mathematical expectation is unknown, and \n",
                "it can be approximated by simulation.\n"
            ]
        },
        {
            "cell_type": "code",
            "execution_count": null,
            "metadata": {
                "vscode": {
                    "languageId": "r"
                }
            },
            "outputs": [],
            "source": [
                "n <- 10000000\n",
                "Z <- 2 * matrix(runif(n), ncol = 2) - 1 # uniform distribution in [-1, 1]\n",
                "\n",
                "inside <- mean(sqrt(rowSums(Z^2)) <= 1) # the center of the cirle is (0, 0)\n",
                "cat(\"The estimated pi = \", inside * 4, \"\\n\")\n"
            ]
        },
        {
            "cell_type": "markdown",
            "metadata": {},
            "source": [
                "The sample size can be made as large as the computer's memory permits, and \n",
                "we can iterate it with average of averages and so on, for higher accuracy.\n",
                "\n",
                "\n",
                "## Finite Sample Evaluation\n",
                "\n",
                "In the real world, a sample is finite. The distribution of a statistic in finite sample depends on\n",
                "the sample size $n$, which has only in rare cases a simple mathematical expression. \n",
                "Fortunately,\n",
                "the expression can often be simplified when we imagine the sample size being arbitrarily large.\n",
                "Asymptotic theory is such mathematical apparatus to approximate finite sample distributions.\n",
                "It is so far the most useful analytical tool that helps us\n",
                "understand the behavior of estimators and tests, either in econometrics or in statistics in general.\n",
                "Simulation is one way to evaluate the accuracy of approximation.\n",
                "\n",
                "Even though real-data empirical example can also be used to illustrate a statistical procedure,\n",
                "artificial data are convenient and informative. The prevalent paradigm in econometrics is\n",
                "to assume that the data are generated from a model. We, as researchers, check how close the estimate is to\n",
                "the model characterized by a set of unknown parameters. In simulations\n",
                "we have full control of the data generation process, including the\n",
                "true parameter.\n",
                "In a real example, however, we have no knowledge about the true model, so we cannot directly\n",
                "evaluate the quality of parameter estimation.\n",
                "\n",
                "(It would be a different story if we are mostly interested in prediction, as we often\n",
                "encounter in machine learning. In such cases, we can split the data into two parts: one part\n",
                "for modeling and estimation, and the other for verification.)\n"
            ]
        },
        {
            "cell_type": "markdown",
            "metadata": {},
            "source": [
                "\n",
                "\n",
                "**Example**\n",
                "\n",
                "In OLS theory, the classical views $X$ as fixed regressions and only\n",
                "cares about the randomness of the error term.\n",
                "Modern econometrics textbook emphasizes that a random $X$ is more appropriate\n",
                "for econometrics applications. In rigorous textbooks, the moment of $X$ is explicitly\n",
                "stated as $E[X_i X_i'] < \\infty$.\n",
                "\n",
                "* Is asymptotic inferential theory for the OLS estimator---consistency and asymptotic normality---valid when $X$ follows a\n",
                "[Pareto distribution](https://en.wikipedia.org/wiki/Pareto_distribution) with shape coefficient 1.5? \n",
                "\n",
                "* A Pareto distribution with shape coefficient between 1 and 2 has finite population mean but infinite variance. \n",
                "Therefore this case violates the assumptions for OLS stated in most of econometric textbooks.\n",
                "\n",
                "We write a script to investigate this problem. The following steps develop the code.\n",
                "\n",
                " 1. given a sample size, get the OLS `b_hat` and its associated `t_value`.\n",
                " 2. wrap `t_value` as a user-defined function so that we can reuse it for many times.\n",
                " 3. given a sample size, report the size under two distributions.\n",
                " 4. wrap step 3 again as a user-defined function, ready for different sample sizes.\n",
                " 5. develop the super structure to connect the workhorse functions.\n",
                " 6. add comments and documentation.\n"
            ]
        },
        {
            "cell_type": "code",
            "execution_count": null,
            "metadata": {
                "vscode": {
                    "languageId": "r"
                }
            },
            "outputs": [],
            "source": [
                "# the workhorse functions\n",
                "simulation <- function(n, type = \"Normal\", df = df) {\n",
                "  # a function gives the t-value under the null\n",
                "  if (type == \"Normal\") {\n",
                "    e <- rnorm(n)\n",
                "  } else if (type == \"T\") {\n",
                "    e <- rt(n, df)\n",
                "  }\n",
                "\n",
                "  X <- cbind(1, VGAM::rpareto(n, shape = 1.5))\n",
                "  Y <- X %*% b0 + e\n",
                "  rm(e)\n",
                "\n",
                "  bhat <- solve(t(X) %*% X, t(X) %*% Y)\n",
                "  bhat2 <- bhat[2] # parameter we want to test\n",
                "\n",
                "  e_hat <- Y - X %*% bhat\n",
                "  sigma_hat_square <- sum(e_hat^2) / (n - 2)\n",
                "  sig_B <- solve(t(X) %*% X) * sigma_hat_square\n",
                "  t_value_2 <- (bhat2 - b0[2]) / sqrt(sig_B[2, 2])\n",
                "\n",
                "  return(t_value_2)\n",
                "}\n",
                "\n",
                "# report the empirical test size\n",
                "report <- function(n) {\n",
                "  # collect the test size from the two distributions\n",
                "  # this function contains some repetitive code, but is OK for such a simple one\n",
                "  TEST_SIZE <- rep(0, 3)\n",
                "\n",
                "  # e ~ normal distribution, under which the t-dist is exact\n",
                "  Res <- plyr::ldply(.data = 1:Rep, .fun = function(i) simulation(n, \"Normal\"))\n",
                "  TEST_SIZE[1] <- mean(abs(Res) > qt(.975, n - 2))\n",
                "  TEST_SIZE[2] <- mean(abs(Res) > qnorm(.975))\n",
                "\n",
                "  # e ~ t-distribution, under which the exact distribution is complicated.\n",
                "  # we rely on asymptotic normal distribution for inference instead\n",
                "  Res <- plyr::ldply(.data = 1:Rep, .fun = function(i) simulation(n, \"T\", df))\n",
                "  TEST_SIZE[3] <- mean(abs(Res) > qnorm(.975))\n",
                "\n",
                "  return(TEST_SIZE)\n",
                "}\n",
                "\n",
                "## the super structure\n",
                "# set the parameters\n",
                "Rep <- 1000\n",
                "b0 <- matrix(1, nrow = 2)\n",
                "df <- 1 # t dist. with df = 1 is Cauchy\n",
                "\n",
                "# run the calculation of the empirical sizes for different sample sizes\n",
                "NN <- c(5, 10, 200, 5000)\n",
                "RES <- plyr::ldply(.data = NN, .fun = report)\n",
                "names(RES) <- c(\"exact\", \"normal.asym\", \"cauchy.asym\") # to make the results readable\n",
                "RES$n <- NN\n",
                "RES <- RES[, c(4, 1:3)] # beautify the print\n",
                "print(RES)\n"
            ]
        },
        {
            "cell_type": "markdown",
            "metadata": {},
            "source": [
                "The first column is the when the error is normal, and we use the exactly distribution theory to find the critical value (according to the $t$ distribution.)\n",
                "The second column still uses the normal distribution in the error term, but change the\n",
                "critical value to be from the normal distribution, which is based on asymptotic approximation. When sample size is small, obvious size distortion is\n",
                "observed; but the deviation is mitigated when the sample size increases.\n",
                "When the error distribution is Cauchy, the so called \"exact distribution\" is no longer exact---\n",
                "it is exact only if the error is normal and independent from $x$.\n",
                "If we attempt to use the asymptotic normal approximation,\n",
                "we find that the asymptotic approximation breaks down. The test size does not converge to the\n",
                "nominal 5% as the sample size increases.\n",
                "\n",
                "\n",
                "In this simulation design, $X$ is always Pareto while we vary the distribution of the error term.\n",
                "When we look at the table, we witness that the distribution of $X$ indeed\n",
                "does not matter. Why? Since\n",
                "\n",
                "$$\n",
                "\\sqrt{n} (\\hat{\\beta} - \\beta_0) |X = (X'X/n)^{-1}  (X' e /\\sqrt{n}),\n",
                "$$\n",
                "\n",
                "the $k$-th element of the vector coefficient conditional on $X$ is\n",
                "$$\n",
                "\\widehat{\\beta}_{k}|X=\\eta_{k}'\\widehat{\\beta}|X\n",
                "\\sim N\\left(\\beta_{k},\\sigma^{2}\\left(X'X\\right)_{kk}^{-1}\\right).\n",
                "$$\n",
                "\n",
                "The $t$-statistic\n",
                "\n",
                "$$\n",
                "T_{k}  =\\frac{\\widehat{\\beta}_{k}-\\beta_{k}}{\\sqrt{s^{2}\\left[\\left(X'X\\right)^{-1}\\right]_{kk}}}\\\\\n",
                "  =\\frac{\\widehat{\\beta}_{k}-\\beta_{k}}{\\sqrt{\\sigma^{2}\\left[\\left(X'X\\right)^{-1}\\right]_{kk}}}\\cdot\\frac{\\sqrt{\\sigma^{2}}}{\\sqrt{s^{2}}}\\\\\n",
                "  =\\frac{\\left(\\widehat{\\beta}_{k}-\\beta_{k}\\right)/\\sqrt{\\sigma^{2}\\left[\\left(X'X\\right)^{-1}\\right]_{kk}}}{\\sqrt{\\frac{e'}{\\sigma}M_{X}\\frac{e}{\\sigma}/\\left(n-K\\right)}}.\n",
                "$$\n",
                "\n",
                "Even though $X'X/n$ does not converge to a stable probabilistic limit, the self-normalized $t$ statistic does not break down.\n",
                "Regardless the distribution of $X$, when \n",
                "the error term is normal, the numerator of the above expression follows a standard normal distribution and the demonimator follows a $\\chi^2$, and moreover these two components are independent. The resulting statistic follows a t-distribution.\n",
                "\n",
                "\n",
                "\n",
                "## Bootstrap\n",
                "\n",
                "Bootstrap, originated from @efron1979bootstrap, is an extremely powerful and influential idea for estimation and inference. Here we give a brief introduction. \n",
                "Textbook exposition can be found in @cameron2005microeconometrics (Chapter 11).\n",
                "\n",
                "Let $X_1, X_2, \\ldots, X_n \\sim F$ be an i.i.d. sample of $n$ observations following a distribution $F$. The finite sample distribution of a statistic $T_n(\\theta)\\sim G_n(\\cdot, F)$ usually depends on the sample size $n$, as well as the known true distribution $F$. Asymptotic theory approximates $G_n(\\cdot, F)$ by its limit \n",
                "$$G(\\cdot, F) := \\lim_{n\\to\\infty} G_n(\\cdot, F).$$ \n",
                "In particular, if $T_n(\\theta)$ is *asymptotically pivotal*, then $G_n(\\cdot, F)$ is independent of $F$ and it becomes $G(\\cdot)$.\n"
            ]
        },
        {
            "cell_type": "code",
            "execution_count": null,
            "metadata": {
                "vscode": {
                    "languageId": "r"
                }
            },
            "outputs": [],
            "source": [
                "runif(10) %>%\n",
                "  ecdf() %>%\n",
                "  plot(, xlim = c(0, 1), main = \"ECDF for uniform distribution\")\n"
            ]
        },
        {
            "cell_type": "markdown",
            "metadata": {},
            "source": [
                "Instead of referring to the limiting distribution, Bootstrap replaces the unknown distribution $F$ in $G_n(\\cdot, F)$ by a consistent estimator $F_n$ of the true distribution, for example, the empirical distribution function\n",
                "$\\hat{F}_n(\\cdot) = n^{-1} \\sum_{i=1}^n 1\\{\\cdot \\leq X_i\\}$\n",
                ". Bootstrap inference is drawn from the bootstrap distribution\n",
                "$$\n",
                "G^{*}_n(\\cdot):= G_n(\\cdot, \\hat{F}_n)\n",
                "$$\n",
                "\n",
                "Implementation of bootstrap is a simulation exercise. In an i.i.d. environment we sample over each observation with equal weight, which is called *nonparametric bootstrap*.\n",
                "However, the species of bootstrap creatures has many varieties adapted to their living environment.\n",
                "In a dependent dataset such as time series [@chang2004bootstrap], clustering data or networks, we must adjust the sampling schedule to preserve the dependence structure. In regression context if we hold the independent variables fixed and only bootstrap the \n",
                "residual, we call it *parametric bootstrap*. If the error term is heteroskedascity, \n",
                "the relationship between $X$ and $\\hat{e}$ can be preserved by *wild bootstrap* [@davidson2010wild].\n"
            ]
        },
        {
            "cell_type": "code",
            "execution_count": null,
            "metadata": {
                "vscode": {
                    "languageId": "r"
                }
            },
            "outputs": [],
            "source": [
                "n <- 9 # sample size\n",
                "boot_Rep <- 3 # bootstrap 3 times\n",
                "\n",
                "real_sample <- rnorm(n) # the real sample\n",
                "d0 <- tibble(no = 1:n, x = real_sample)\n",
                "print(d0)\n",
                "\n",
                "d_boot <- list() # save the bootstrap sample\n",
                "for (b in 1:boot_Rep) {\n",
                "  boot_index <- sample(1:n, n, replace = TRUE)\n",
                "  d_boot[[b]] <- tibble(no = boot_index, x = real_sample[boot_index])\n",
                "}\n",
                "\n",
                "d_boot %>% as_tibble(, .name_repair = \"minimal\") %>% print()\n"
            ]
        },
        {
            "cell_type": "markdown",
            "metadata": {},
            "source": [
                "In many regular cases, it is possible to show in theory the *consistency* of bootstrap:\n",
                "the statistic of interest and its bootstrap version converge to the same asymptotic distribution, or $G^*_n(a) \\stackrel{p}{ \\to } G(a)$ for $a$ such that $G(a)$ is continuous. However, bootstrap consistency can fail when the distribution of the statistic is discontinuous in the limit. Bootstrap is invalid in such cases. For instance, naïve bootstrap fails to replicate the asymptotic distribution of the two-stage least squares estimator under weak instruments. More sophisticated alternatives are need to fix the inconsistency of bootstrap, which we don't mention in this lecture.\n",
                "\n",
                "### Bootstrap Estimation\n",
                "\n",
                "Bootstrap is simple enough to be done by a `ply`-family function for repeated simulations. Alternatively, R package [boot](http://cran.r-project.org/web/packages/boot/index.html) provides a general function `boot()`.\n",
                "\n",
                "\n",
                "Bootstrap is useful when the analytic formula of the variance of an econometric estimator is too complex to derive or code up.\n",
                "\n",
                "**Example**\n",
                "\n",
                "One of the most popular estimators for a sample selection model is @heckman1977sample's two-step method. Let the outcome equation be\n",
                "\n",
                "$$\n",
                "y_i = x_i \\beta + u_i\n",
                "$$\n",
                "\n",
                "and the selection equation be\n",
                "\n",
                "$$\n",
                "D_i = z_i \\gamma + v_i\n",
                "$$\n",
                "\n",
                "To obtain a point estimator, we simply run a Probit in the selection model, predict the probability of participation, and then run an OLS of $y_i$ on $x_i$ and $\\lambda (\\hat{D}_i)$ in the outcome model, where $\\lambda(\\cdot)$ is the inverse Mill's ratio. However, as we can see from Heckman (1979)'s original paper, the asymptotic variance expression of the two-step estimator is very complicated. Instead of following the analytic formula, we can simply bootstrap the variance.\n"
            ]
        },
        {
            "cell_type": "code",
            "execution_count": null,
            "metadata": {
                "vscode": {
                    "languageId": "r"
                }
            },
            "outputs": [],
            "source": [
                "# the dataset comes from\n",
                "# Greene( 2003 ): example 22.8, page 786\n",
                "library(sampleSelection)\n",
                "data(Mroz87)\n",
                "# equations\n",
                "selection_eq <- lfp ~ -1 + age + faminc + exper + educ\n",
                "outcome_eq <- wage ~ exper + educ\n",
                "\n",
                "# Heckman two-step estimation\n",
                "heck <- sampleSelection::heckit(selection_eq, outcome_eq, data = Mroz87)\n",
                "print(lmtest::coeftest(heck))\n"
            ]
        },
        {
            "cell_type": "markdown",
            "metadata": {},
            "source": [
                "Below is the function for a single bootstrap. For convenience, we save the point estimates of `heckit` but ignore the estimated variance. (This is a lazy option though,  it must produce the same result if we take the effort to manually program the Heckit point estimation.)\n",
                "Implementation is just a repeated evaluation.\n"
            ]
        },
        {
            "cell_type": "code",
            "execution_count": null,
            "metadata": {
                "vscode": {
                    "languageId": "r"
                }
            },
            "outputs": [],
            "source": [
                "n <- nrow(Mroz87)\n",
                "boot_heck <- function() {\n",
                "  indices <- sample(1:n, n, replace = T) # resample the index set\n",
                "  Mroz87_b <- Mroz87[indices, ] # generate the bootstrap sample\n",
                "  heck_b <- sampleSelection::heckit(selection_eq, outcome_eq, data = Mroz87_b)\n",
                "  return(coef(heck_b))\n",
                "}\n",
                "# repeat the bootstrap\n",
                "boot_Rep <- 199\n",
                "Heck_B <- plyr::ldply(.data = 1:boot_Rep, .fun = function(i) boot_heck())\n",
                "\n",
                "# collect the bootstrap outcomes\n",
                "Heck_b_sd <- apply(Heck_B, 2, sd)[1:7]\n",
                "print(Heck_b_sd)\n"
            ]
        },
        {
            "cell_type": "markdown",
            "metadata": {},
            "source": [
                "The standard errors from the analytical expression and those from bootstrap are comparable.\n",
                "Both are asymptotically consistent. The bootstrap estimates can also be used to \n",
                "directly compute the confidence intervals.\n",
                "\n",
                "### Bootstrap Test\n",
                "\n",
                "Bootstrap is particularly helpful in inference. Indeed,\n",
                "we can rigorously prove that bootstrap enjoys high-order improvement\n",
                "relative to analytic asymptotic approximation if the test statistic is asymptotically pivotal [@hall1996bootstrap].\n",
                " Loosely speaking,\n",
                "if the test statistic is asymptotically pivotal, a bootstrap hypothesis testing\n",
                "can be more accurate than its analytic asymptotic counterpart.\n",
                "\n",
                "**Example**\n",
                "\n",
                "We use bootstrap to test a hypothesis about the population mean. The test is\n",
                "carried out by a $t$-statistic. The distribution of the sample is either\n",
                "*normal* or *zero-centered chi-square*. It will show that the bootstrap test size is\n",
                "more precise than that of the asymptotic approximation.\n",
                "\n",
                "We first prepare the workhorse functions.\n"
            ]
        },
        {
            "cell_type": "code",
            "execution_count": null,
            "metadata": {
                "vscode": {
                    "languageId": "r"
                }
            },
            "outputs": [],
            "source": [
                "# the t-statistic for a null hypothesis mu\n",
                "T_stat <- function(Y, mu) sqrt(n) * (mean(Y) - mu) / sd(Y)\n",
                "\n",
                "# the bootstrap function\n",
                "boot_test <- function(Y, boot_Rep) {\n",
                "  # INPUT\n",
                "  # Y: the sample\n",
                "  # boot_Rep: number of bootstrap replications\n",
                "\n",
                "  n <- length(Y)\n",
                "  boot_T <- rep(0, boot_Rep)\n",
                "\n",
                "  # bootstrap in action\n",
                "  for (r in 1:boot_Rep) {\n",
                "    indices <- sample.int(n, n, replace = T) # resampling the index\n",
                "    resampled_Y <- Y[indices] # construct a bootstrap artificial sample\n",
                "    boot_T[r] <- abs(T_stat(resampled_Y, mean(Y)))\n",
                "    # the bootstrapped t-statistic\n",
                "    # mu is replaced by \"mean(Y)\" to mimic the situation under the null\n",
                "  }\n",
                "\n",
                "  # bootstrap critical value\n",
                "  boot_critical_value <- quantile(boot_T, 1 - alpha)\n",
                "  # bootstrap test decision\n",
                "  return(abs(T_stat(Y, mu)) > boot_critical_value)\n",
                "}\n"
            ]
        },
        {
            "cell_type": "markdown",
            "metadata": {},
            "source": [
                "A key point for bootstrap test is that the null hypothesis must be imposed no matter\n",
                "the hypothesized parameter is true value or not.\n",
                "Therefore the bootstrap t-statistic is\n",
                "\n",
                "$$\n",
                "T^{*}_{n} = \\frac{\\bar{X^{*}} - \\bar{X}} { s^{*} / \\sqrt{n} }.\n",
                "$$\n",
                "\n",
                "That is, the bootstrap $t$-statistic is centered at $\\bar{X}$, the sample mean of $F_n$,\n",
                "rather than $\\theta$, the population mean of $F$. This is because in the bootstrap world\n",
                "the ``true'' distribution is $F_n$. If we wrongly center the bootstrap t-statistic at $\\theta$,\n",
                "then the test will have no power when the null hypothesis is false.\n",
                "\n",
                "The following chuck of code report the rejection probability from three decision rules.\n"
            ]
        },
        {
            "cell_type": "code",
            "execution_count": null,
            "metadata": {
                "vscode": {
                    "languageId": "r"
                }
            },
            "outputs": [],
            "source": [
                "compare <- function() {\n",
                "  # this function generates a sample of n observations\n",
                "  # and it returns the testing results from three decision rules\n",
                "\n",
                "  if (distribution == \"normal\") {\n",
                "    X <- rnorm(n)\n",
                "  }\n",
                "  else if (distribution == \"chisq\") {\n",
                "    X <- rchisq(n, df = 3) - 3\n",
                "  }\n",
                "\n",
                "  t_value_X <- T_stat(X, mu) # T-statistic\n",
                "\n",
                "  # compare it to the 97.5% of t-distribution\n",
                "  exact <- abs(t_value_X) > qt(0.975, df = n - 1)\n",
                "  # compare it to the 97.5% of normal distribution\n",
                "  asym <- abs(t_value_X) > 1.96\n",
                "  # decision from bootstrap\n",
                "  boot_rule <- boot_test(X, boot_Rep)\n",
                "\n",
                "  return(c(exact, asym, boot_rule))\n",
                "}\n",
                "\n",
                "# set the parameters\n",
                "n <- 20\n",
                "distribution <- \"normal\"\n",
                "boot_Rep <- 199\n",
                "MC_rep <- 2000\n",
                "alpha <- 0.05\n",
                "mu <- 0\n",
                "\n",
                "# Monte Carlo simulation and report the rejection probability\n",
                "res <- plyr::ldply(.data = 1:MC_rep, .fun = function(i) compare())\n",
                "colnames(res) <- c(\"exact\", \"asym\", \"bootstrap\")\n",
                "print(colMeans(res))\n"
            ]
        },
        {
            "cell_type": "markdown",
            "metadata": {},
            "source": [
                "Here the nominal size of the test is 5%. The program reports the empirical size\n",
                "---the ratio between the number of rejections to the total number of replications.\n",
                "The closer is the empirical size to the nominal size, the more accurate is the test.\n",
                "We find here the bootstrap test is more accurate than the asymptotic test.\n",
                "\n",
                "When the underlying distribution is a $\\chi^2$, the exact distribution is difficult \n",
                "to derive analytically. \n",
                "However, we can still compare the asymptotic size with the bootstrap size.\n"
            ]
        },
        {
            "cell_type": "code",
            "execution_count": null,
            "metadata": {
                "vscode": {
                    "languageId": "r"
                }
            },
            "outputs": [],
            "source": [
                "distribution <- \"chisq\"\n",
                "\n",
                "res <- plyr::ldply(.data = 1:MC_rep, .fun = function(i) compare())\n",
                "colnames(res) <- c(\"exact?\", \"asym\", \"bootstrap\")\n",
                "print(colMeans(res))\n"
            ]
        },
        {
            "cell_type": "markdown",
            "metadata": {},
            "source": [
                "Again, here the \"exact test\" is no longer exact. The asymptotic test works fairly\n",
                "reasonable, while the bootstrap is closer to the nominal size 5%.\n",
                "\n",
                "## Reading\n",
                "\n",
                "Efron and Hastie: Ch 10 and 11\n",
                "\n",
                "## Reference\n"
            ]
        }
    ],
    "metadata": {
        "anaconda-cloud": "",
        "kernelspec": {
            "display_name": "R",
            "langauge": "R",
            "name": "ir"
        },
        "language_info": {
            "codemirror_mode": "r",
            "file_extension": ".r",
            "mimetype": "text/x-r-source",
            "name": "R",
            "pygments_lexer": "r",
            "version": "3.4.1"
        }
    },
    "nbformat": 4,
    "nbformat_minor": 1
}
