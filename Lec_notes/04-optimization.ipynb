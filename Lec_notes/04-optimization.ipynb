{
    "cells": [
        {
            "cell_type": "markdown",
            "metadata": {},
            "source": [
                "# Numerical Optimization\n",
                "\n"
            ]
        },
        {
            "cell_type": "code",
            "execution_count": null,
            "metadata": {
                "vscode": {
                    "languageId": "r"
                }
            },
            "outputs": [],
            "source": [
                "library(magrittr)"
            ]
        },
        {
            "cell_type": "markdown",
            "metadata": {},
            "source": [
                "Except for a few Bayesian estimators, almost all estimators in econometrics, such as OLS, MLE, 2SLS, and GMM, are optimizers of some criterion functions. Understanding how to construct an optimization problem and how to implement optimization by oneself is the key step to transform from a consumer of econometrics to a developer of econometrics. Unfortunately,  traditionally econometrics curriculum does not pay enough attention in numerical optimization. The consequence is that many students rely on the procedures that the econometric packages offer. They are unable to tailor econometric methods for their purposes; instead, they modify their data to meet standard econometric methods.\n"
            ]
        },
        {
            "cell_type": "markdown",
            "metadata": {},
            "source": [
                "\n",
                "A general optimization problem is formulated as\n",
                "\n",
                "$$\n",
                "\\min_{\\theta \\in \\Theta } f(\\theta) \\,\\, \\mathrm{ s.t. }  g(\\theta) = 0, h(\\theta) \\leq 0,\n",
                "$$\n",
                "\n",
                "where $f(\\cdot)\\in \\mathbb{R}$ is a scalar-valued criterion function, $g(\\theta) = 0$ is a vector of equality constraints,\n",
                "and $h(\\theta)\\leq 0$ is a vector of inequality constraints.\n",
                "\n",
                "Most established numerical optimization algorithms aim at finding a local minimum.\n",
                "However, there is little guarantee that these methods should locate the global minimum when multiple local minima exist.\n",
                "\n",
                "Optimization without the equality and/or inequality constraints is called\n",
                "an *unconstrained* problem; otherwise it is called a *constrained* problem.\n",
                "The constraints can be incorporated into the criterion function via Lagrangian. \n",
                "Economic students are very familiar with constrained optimization---consider utility maximization given a budget constraint.\n",
                "\n",
                "In terms of implementation, we always face the tradeoff between convenience and efficiency.\n",
                "Convenience is about the readability of the mathematical expressions and the code, \n",
                "while efficiency concerns the computing speed. We recommend that we put convenience as \n",
                "priority at the trial-and-error stage, and improves efficiency when necessary at a later stage for full-scale execution.\n",
                "\n",
                "\n",
                "\n",
                "## Methods\n",
                "\n",
                "There are many optimization algorithms in the field of operational research;\n",
                "they are variants of a small handful of fundamental principles.\n",
                "\n",
                "Many textbook MLE estimators are twice-differentiable but do not admit an explicit solution, for example Logit, Probit, and Tobit. The essential idea for optimizing a twice-differentiable objective function is the Newton's method. \n",
                "A necessary condition for optimization is the first-order condition\n",
                "$s(\\theta) = \\partial f(\\theta) / \\partial \\theta = 0$.\n"
            ]
        },
        {
            "cell_type": "code",
            "execution_count": null,
            "metadata": {
                "vscode": {
                    "languageId": "r"
                }
            },
            "outputs": [],
            "source": [
                "f <- function(x) 0.1 * (x - 5)^2 + cos(x) # criterion\n",
                "s <- function(x) 0.2 * (x - 5) - sin(x) # gradient\n",
                "h <- function(x) 0.2 - cos(x) # Hessian\n",
                "\n",
                "# plot\n",
                "par(mfrow = c(3, 1))\n",
                "par(mar = c(2, 4, 1, 2))\n",
                "\n",
                "x_base <- seq(0.1, 10, by = 0.1)\n",
                "plot(y = f(x_base), x = x_base, type = \"l\", lwd = 2, ylab = \"f\")\n",
                "plot(y = s(x_base), x = x_base, type = \"l\", ylab = \"score\")\n",
                "abline(h = 0, lty = 2)\n",
                "plot(y = h(x_base), x = x_base, type = \"l\", ylab = \"Hessian\")\n",
                "abline(h = 0, lty = 2)\n"
            ]
        },
        {
            "cell_type": "markdown",
            "metadata": {},
            "source": [
                "At an initial trial value $\\theta_0$, if $s(\\theta_0) \\neq 0$, the search is updated by\n",
                "\n",
                "$$\n",
                "\\theta_{t+1} = \\theta_{t} -  \\left( H(\\theta_t)  \\right)^{-1}  s(\\theta_t)\n",
                "$$\n",
                "\n",
                "for the index of iteration $t=0,1,\\cdots$, where\n",
                "$H(\\theta) = \\frac{ \\partial s(\\theta )}{ \\partial \\theta}$\n",
                "is the Hessian matrix. This formulate can be intuitively motivated from a Taylor expansion\n",
                "at $\\theta_t$ round  $\\theta_{\\star}$, a root of $s(\\cdot)$. Because $\\theta_{ \\star }$  is a root,\n",
                "\n",
                "$$\n",
                "0 = s(\\theta_{\\star}) = s(\\theta_t) + H(\\theta_t) (\\theta_{t+1} - \\theta_t) + O( (\\theta_{t+1} - \\theta_t)^2 ).\n",
                "$$\n",
                "\n",
                "Ignore the high-order term and rearrange,\n",
                "$\\theta_{\\star} = \\theta_{t} -  \\left( H(\\theta_t)  \\right)^{-1}  s(\\theta_t),$ \n",
                "and we obtain the iteration formula by replacing $\\theta_{\\star}$ with the updated $\\theta_{t+1}$. \n",
                "In other words, it is a first-order linear updating formula for a nonlinear $s(\\cdot)$.  The algorithm iterates until $|\\theta_{t+1} -\\theta_{t}| < \\epsilon$ (absolute criterion) and/or\n",
                "$|\\theta_{t+1} -\\theta_{t}|/|\\theta_{t}| < \\epsilon$ (relative criterion), where\n",
                "$\\epsilon$ is a small positive number chosen as a tolerance level.\n"
            ]
        },
        {
            "cell_type": "code",
            "execution_count": null,
            "metadata": {
                "vscode": {
                    "languageId": "r"
                }
            },
            "outputs": [],
            "source": [
                "# Newton's method\n",
                "Newton <- function(x) {\n",
                "  x - s(x) / h(x)\n",
                "} # update formula\n",
                "\n",
                "x_init <- 6 # can experiment with various initial values\n",
                "\n",
                "gap <- 1\n",
                "epsilon <- 0.0001 # tolerance\n",
                "while (gap > epsilon) {\n",
                "  x_new <- Newton(x_init) %>% print()\n",
                "  gap <- abs(x_init - x_new)\n",
                "  x_init <- x_new\n",
                "}\n"
            ]
        },
        {
            "cell_type": "markdown",
            "metadata": {},
            "source": [
                "**Newton's Method.** Newton's method seeks the solution to\n",
                "$s(\\theta) = 0$. Recall that the first-order condition is a necessary condition but not a sufficient\n",
                "condition. We need to verify the second-order condition for each root of $s(\\theta)$ to decide whether it is a minimizer, maximizer or saddle point.\n",
                "If there are multiple minima, we compare the value at each to decide the\n",
                "global minimum.\n",
                "\n",
                "It is clear that Newton's method requires\n",
                "computing the gradient $s(\\theta)$ and the Hessian $H(\\theta)$.\n",
                "Newton's method numerically converges at quadratic rate.\n",
                "\n",
                "\n",
                "**Quasi-Newton Method.** The most well-known quasi-Newton algorithm is  \n",
                "[BFGS](http://en.wikipedia.org/wiki/Broyden%E2%80%93Fletcher%E2%80%93Goldfarb%E2%80%93Shanno_algorithm).\n",
                "It avoids explicit calculation of the computationally expensive Hessian matrix. Instead, starting from an initial (inverse)\n",
                "Hessian, it updates the Hessian by an explicit formula motivated from the idea of quadratic approximation.\n",
                "\n",
                "**Derivative-Free Method.** [Nelder-Mead](http://en.wikipedia.org/wiki/Nelder%E2%80%93Mead_method)\n",
                "is a simplex method. It searches a local minimum by reflection, expansion and contraction.\n"
            ]
        },
        {
            "cell_type": "markdown",
            "metadata": {},
            "source": [
                "\n",
                "## Implementation\n",
                "\n",
                "R's optimization infrastructure has been constantly improving.\n",
                "[R Optimization Task View](http://cran.r-project.org/web/views/Optimization.html)\n",
                "gives a survey of the available CRAN packages. For general-purpose nonlinear optimization, the package\n",
                "[`optimx`](http://cran.r-project.org/web/packages/optimx/index.html) [@nash2014best]\n",
                "effectively replaces R's default optimization commands. `optimx` provides a unified\n",
                "interface for various widely-used optimization algorithms. Moreover,\n",
                "it facilitates comparison among optimization algorithms. A relatively new package [`ROI`](https://cran.r-project.org/web/packages/ROI/index.html) [@epubwu5858] attempts to offer a consistent modeling framework to communicate with solvers. We will incorporate `ROI` in a future draft.\n"
            ]
        },
        {
            "cell_type": "markdown",
            "metadata": {},
            "source": [
                "\n",
                "**Example**\n",
                "\n",
                "We use `optimx` to solve pseudo Poisson maximum likelihood estimation (PPML), which is a popular estimator in international trade for cross-country bilateral trade [@silva2006log]. If $y_i$ is a continuous random variable, it obviously does not follow a Poisson\n",
                "distribution whose support consists of non-negative integers. However, if the conditional mean model\n",
                "$$E[y_i | x_i] = \\exp( x_i' \\beta),$$\n",
                "is satisfied, we can still use the Poisson regression to obtain a consistent\n",
                "estimator of the parameter $\\beta$ even if $y_i$ does not follow a conditional\n",
                "Poisson distribution.\n",
                "\n",
                "If $Z$ follows a Poisson distribution with mean $\\lambda$, the probability mass function\n",
                "\n",
                "$$\n",
                "\\Pr(Z = k) = \\frac{\\mathrm{e}^{-\\lambda} \\lambda^k}{k!}, \\mathrm{ for }\\, \\, k=0,1,2,\\ldots,\n",
                "$$\n",
                "\n",
                "so that\n",
                "\n",
                "$$\n",
                "\\log \\Pr(Y = y | x) =  -\\exp(x'\\beta) + y\\cdot x'\\beta - \\log k!\n",
                "$$\n",
                "\n",
                "Since the last term is irrelevant to the parameter, the\n",
                "log-likelihood function is\n",
                "\n",
                "$$\n",
                "\\ell(\\beta) = \\log \\Pr( \\mathbf{y} | \\mathbf{x};\\beta ) =\n",
                "-\\sum_{i=1}^n \\exp(x_i'\\beta) + \\sum_{i=1}^n y_i x_i'\\beta.\n",
                "$$\n",
                "\n",
                "In addition, it is easy to write the gradient\n",
                "\n",
                "$$\n",
                "s(\\beta) =\\frac{\\partial \\ell(\\beta)}{\\partial \\beta} =\n",
                "-\\sum_{i=1}^n \\exp(x_i'\\beta)x_i + \\sum_{i=1}^n y_i x_i.\n",
                "$$\n",
                "\n",
                "and verify that the Hessian\n",
                "\n",
                "$$\n",
                "H(\\beta) = \\frac{\\partial^2 \\ell(\\beta)}{\\partial \\beta \\partial \\beta'} =\n",
                "-\\sum_{i=1}^n \\exp(x_i'\\beta)x_i x_i'\n",
                "$$\n",
                "\n",
                "is negative definite. Therefore, $\\ell(\\beta)$ is strictly concave\n",
                "in $\\beta$.\n",
                "\n",
                "In operational research, the default optimization is minimization, although\n",
                " utility is maximized in economics and likelihood is maximized in statistics. \n",
                "To follow this convention in operational research, here we formulate the *negative* log-likelihood.\n"
            ]
        },
        {
            "cell_type": "code",
            "execution_count": null,
            "metadata": {
                "vscode": {
                    "languageId": "r"
                }
            },
            "outputs": [],
            "source": [
                "# Poisson likelihood\n",
                "poisson.loglik <- function(b) {\n",
                "  b <- as.matrix(b)\n",
                "  lambda <- exp(X %*% b)\n",
                "  ell <- -sum(-lambda + y * log(lambda))\n",
                "  return(ell)\n",
                "}\n"
            ]
        },
        {
            "cell_type": "markdown",
            "metadata": {},
            "source": [
                "To implement optimization in `R`, it is recommended to write the criterion as a\n",
                "function of the parameter. Data can be fed inside or outside of the function.\n",
                "If the data is provided as additional arguments, these arguments must be explicit.\n",
                "(In contrast, in `Matlab` the parameter must be the sole argument for the function to be\n",
                "optimized, and data can only be injected through a nested function.)\n"
            ]
        },
        {
            "cell_type": "code",
            "execution_count": null,
            "metadata": {
                "vscode": {
                    "languageId": "r"
                }
            },
            "outputs": [],
            "source": [
                "# implement both BFGS and Nelder-Mead for comparison.\n",
                "\n",
                "library(AER)\n",
                "\n",
                "## prepare the data\n",
                "data(\"RecreationDemand\")\n",
                "y <- RecreationDemand$trips\n",
                "X <- with(RecreationDemand, cbind(1, income))\n",
                "\n",
                "## estimation\n",
                "b.init <- c(0, 1) # initial value\n",
                "b.hat <- optimx::optimx(b.init, poisson.loglik,\n",
                "  method = c(\"BFGS\", \"Nelder-Mead\"),\n",
                "  control = list(\n",
                "    reltol = 1e-7,\n",
                "    abstol = 1e-7\n",
                "  )\n",
                ")\n",
                "print(b.hat)\n"
            ]
        },
        {
            "cell_type": "markdown",
            "metadata": {},
            "source": [
                "Given the conditional mean model, nonlinear least squares (NLS) is also consistent in theory.\n",
                "NLS minimizes\n",
                "\n",
                "$$\n",
                "\\sum_{i=1}^n (y_i - \\exp(x_i \\beta))^2\n",
                "$$\n",
                "\n",
                "A natural question is: why do we prefer PPML to NLS?  PPML's optimization for the linear index is globally convex, while NLS is not.\n",
                "It implies that the numerical optimization of PPML is easier and more robust than that of NLS. I leave the derivation of the non-convexity of NLS as an exercise.\n",
                "\n",
                "\n",
                "In practice no algorithm suits all problems. Simulation, where the true parameter is known,\n",
                "  is helpful to check the accuracy of one's optimization routine before applying to an empirical problem,\n",
                "  where the true parameter is unknown.\n",
                "Contour plot is a useful tool to visualize the function surface/manifold in a low dimension.\n",
                "\n",
                "**Example**\n"
            ]
        },
        {
            "cell_type": "code",
            "execution_count": null,
            "metadata": {
                "vscode": {
                    "languageId": "r"
                }
            },
            "outputs": [],
            "source": [
                "x.grid <- seq(0, 1.8, 0.02)\n",
                "x.length <- length(x.grid)\n",
                "y.grid <- seq(-.5, .2, 0.01)\n",
                "y.length <- length(y.grid)\n",
                "\n",
                "z.contour <- matrix(0, nrow = x.length, ncol = y.length)\n",
                "\n",
                "for (i in 1:x.length) {\n",
                "  for (j in 1:y.length) {\n",
                "    z.contour[i, j] <- poisson.loglik(c(x.grid[i], y.grid[j]))\n",
                "  }\n",
                "}\n",
                "\n",
                "contour(x.grid, y.grid, z.contour, 20)\n"
            ]
        },
        {
            "cell_type": "markdown",
            "metadata": {},
            "source": [
                "For problems that demand more accuracy,  third-party standalone solvers can be\n",
                "invoked via interfaces to `R`.\n",
                "For example, we can access [`NLopt`](http://ab-initio.mit.edu/wiki/index.php/NLopt_Installation)\n",
                "through the packages [`nloptr`](http://cran.r-project.org/web/packages/nloptr/index.html).\n",
                "\n",
                "`NLopt` offers an [extensive list of algorithms](http://ab-initio.mit.edu/wiki/index.php/NLopt_Algorithms#SLSQP).\n",
                "\n",
                "**Example**\n",
                "\n",
                "We first carry out the Nelder-Mead algorithm in NLOPT.\n"
            ]
        },
        {
            "cell_type": "code",
            "execution_count": null,
            "metadata": {
                "vscode": {
                    "languageId": "r"
                }
            },
            "outputs": [],
            "source": [
                "## optimization with NLoptr\n",
                "\n",
                "opts <- list(\n",
                "  \"algorithm\" = \"NLOPT_LN_NELDERMEAD\",\n",
                "  \"xtol_rel\" = 1.0e-7,\n",
                "  maxeval = 500\n",
                ")\n",
                "\n",
                "res_NM <- nloptr::nloptr(\n",
                "  x0 = b.init,\n",
                "  eval_f = poisson.loglik,\n",
                "  opts = opts\n",
                ")\n",
                "print(res_NM)\n",
                "\n",
                "# \"SLSQP\" is indeed the BFGS algorithm in NLopt,\n",
                "# though \"BFGS\" doesn't appear in the name\n",
                "opts <- list(\"algorithm\" = \"NLOPT_LD_SLSQP\", \"xtol_rel\" = 1.0e-7)\n"
            ]
        },
        {
            "cell_type": "markdown",
            "metadata": {},
            "source": [
                "To invoke BFGS in NLOPT, we must code up the gradient $s(\\beta)$,\n",
                "as in the function `poisson.log.grad()` below.\n"
            ]
        },
        {
            "cell_type": "code",
            "execution_count": null,
            "metadata": {
                "vscode": {
                    "languageId": "r"
                }
            },
            "outputs": [],
            "source": [
                "poisson.loglik.grad <- function(b) {\n",
                "  b <- as.matrix(b)\n",
                "  lambda <- exp(X %*% b)\n",
                "  ell <- -colSums(-as.vector(lambda) * X + y * X)\n",
                "  return(ell)\n",
                "}\n"
            ]
        },
        {
            "cell_type": "markdown",
            "metadata": {},
            "source": [
                "We compare the analytical gradient with the numerical gradient to make sure\n",
                "the function is correct.\n"
            ]
        },
        {
            "cell_type": "code",
            "execution_count": null,
            "metadata": {
                "vscode": {
                    "languageId": "r"
                }
            },
            "outputs": [],
            "source": [
                "# check the numerical gradient and the analytical gradient\n",
                "b <- c(0, .5)\n",
                "numDeriv::grad(poisson.loglik, b)\n",
                "poisson.loglik.grad(b)\n"
            ]
        },
        {
            "cell_type": "markdown",
            "metadata": {},
            "source": [
                "With the function of gradient, we are ready for BFGS.\n",
                "\n"
            ]
        },
        {
            "cell_type": "code",
            "execution_count": null,
            "metadata": {
                "vscode": {
                    "languageId": "r"
                }
            },
            "outputs": [],
            "source": [
                "res_BFGS <- nloptr::nloptr(\n",
                "  x0 = b.init,\n",
                "  eval_f = poisson.loglik,\n",
                "  eval_grad_f = poisson.loglik.grad,\n",
                "  opts = opts\n",
                ")\n",
                "print(res_BFGS)\n"
            ]
        },
        {
            "cell_type": "markdown",
            "metadata": {},
            "source": [
                "## Convex Optimization\n",
                "\n",
                "If a function is convex in its argument, then a local minimum is a global minimum.\n",
                "Convex optimization is particularly important in high-dimensional problems. The readers are\n",
                "referred to @boyd2004convex for an accessible comprehensive treatment. They claim that\n",
                "\"convex optimization is technology; all other optimizations are arts.\" This is true to some extent.\n"
            ]
        },
        {
            "cell_type": "code",
            "execution_count": null,
            "metadata": {
                "vscode": {
                    "languageId": "r"
                }
            },
            "outputs": [],
            "source": [
                "f1 <- function(x) x^2\n",
                "f2 <- function(x) abs(x)\n",
                "f3 <- function(x) (-x - 1) * (x <= -1) + (0.4 * x - .2) * (x >= .5)\n",
                "\n",
                "par(mfrow = c(1, 3))\n",
                "par(mar = c(4, 2, 1, 2))\n",
                "\n",
                "x_base <- seq(-3, 3, by = 0.1)\n",
                "plot(y = f1(x_base), x = x_base, type = \"l\", lwd = 2, xlab = \"differentiable\")\n",
                "plot(y = f2(x_base), x = x_base, type = \"l\", lwd = 2, xlab = \"non-differentiable\")\n",
                "plot(y = f3(x_base), x = x_base, type = \"l\", lwd = 2, xlab = \"multiple minimizers\")\n"
            ]
        },
        {
            "cell_type": "markdown",
            "metadata": {},
            "source": [
                "**Example**\n",
                "\n",
                "* linear regression model MLE\n",
                "\n",
                "\n",
                "Normal MLE. The (negative) log-likelihood is\n",
                "\n",
                "$$\n",
                "\\ell (\\beta, \\sigma) = \\log \\sigma + \\frac{1}{2\\sigma^2}\\sum_{i=1}^n (y_i - x_i' \\beta)^2\n",
                "$$\n",
                "\n",
                "This is not a convex problem, because $\\log \\sigma$ is concave. But if we re-parameterize the criterion function by $\\gamma = 1/\\sigma$ and $\\alpha = \\beta / \\sigma$, then\n",
                "\n",
                "$$\n",
                "\\ell (\\alpha, \\gamma) = -\\log \\gamma + \\frac{1}{2}\n",
                "\\sum_{i=1}^n (\\gamma y_i - x_i' \\alpha)^2\n",
                "$$\n",
                "\n",
                " in convex in $\\alpha, \\gamma$. Many MLE estimators in econometric textbooks are convex. \n",
                "\n",
                "In view of the importance of high-dimensional estimation problems, @gao2018two explore the infrastructure in R to carry out convex optimization with two econometric examples. There are several options. `CVXR` [@fu2018cvxr] is a convenient convex modeling language that supports proprietary convex solvers `CLEPX`, `MOSEK`, `Gurubi` as well as open-source solvers \t`ECOS` and `SDPT3`. While open-source solvers does not require license and can be installed in large scale in cloud computing, proprietary solvers are more faster and more reliable. `MOSEK` offers free academic license and we have had extensive experience with it. \n",
                " [`Rmosek`](http://rmosek.r-forge.r-project.org/) offers an interface in `R` to access `Mosek` (`Rtools` is a prerequisite to install `Rmosek` in Windows.)\n"
            ]
        },
        {
            "cell_type": "markdown",
            "metadata": {},
            "source": [
                "\n",
                "**Example: Relaxed empirical likelihood**\n",
                "\n",
                "\n",
                "\n",
                "Consider a model with a \"true\" parameter $\\beta_0$ satisfying the moment condition $\\mathrm{E}\\left[  h\\left(Z_i, \\beta_0 \\right)\\right] = 0_m$, where $\\left\\{Z_i \\right\\}_{i=1}^n$ is the observed data, $\\beta$\n",
                "is a low dimensional parameter of interest, and  $h$ is an $\\mathbb{R}^{m}$-valued moment function. \n",
                "Empirical likelihood (EL) [@owen1988empirical] [@qin1994empirical] solves\n",
                "\n",
                "$$\n",
                "\\max_{\\beta \\in \\mathcal{B}, \\pi \\Delta_n} \\; \\sum_{i=1}^n \\log \\pi_i \\;\\,\\, \\text{s.t.} \\; \\sum_{i=1}^n \\pi_i h \\left( Z_i, \\beta \\right) = 0_m\n",
                "$$\n",
                "\n",
                "where $\\Delta_{n} = \\left\\{ \\pi\\in\\left[0,1\\right]^{n}:\\sum_{i=1}^{n}\\pi_{i}=1 \\right\\}$ is the $n$-dimensional probability simplex.\n",
                "\n",
                "To handle the high-dimensional case, i.e., $m > n$, @shi2016econometric proposes the relaxed empirical likelihood (REL),  defined as the solution to \n",
                "\n",
                "$$\n",
                "\\max_{\\beta\\in\\mathcal{B}}\\max_{\\pi\\in\\Delta_{n}^{\\lambda}\\left(\\beta\\right)}\\,\\sum_{i=1}^{n}\\log\\pi_{i}\n",
                "$$\n",
                "\n",
                "where \n",
                "\n",
                "$$\n",
                "\\Delta_{n}^{\\lambda}\\left(\\beta\\right)=\\left\\{ \\pi_i \\in\\Delta_{n}:\\big|\\sum_{i=1}^{n}\\pi_{i}h_{ij}\\left(\\beta\\right)\\big|\\leq\\lambda,\\:j=1,2,\\cdots,m\\right\\}\n",
                "$$\n",
                "\n",
                "is a relaxed simplex, $\\lambda\\geq0$ is a tuning parameter, $h_{ij}\\left(\\beta\\right)=h_{j}\\left(Z_{i},\\beta\\right)$\n",
                "is the $j$-th component of $h\\left(Z_{i},\\beta\\right)$.\n",
                "\n",
                "Similar to standard EL, REL's optimization involves an inner loop\n",
                "and an outer loop. The outer loop for $\\beta$ is a general low-dimensional\n",
                "nonlinear optimization, which can be solved by Newton-type methods.\n",
                "With the linear constraints and the logarithm objective, the inner\n",
                "loop is convex in $\\pi=\\left(\\pi_{i}\\right)_{i=1}^{n}$. \n",
                "By introducing auxiliary variable, $t_i$, the logarithm objective can be formulated as a linear objective function $\\sum_{i=1}^n t_i$ and $n$ exponential conic constraints, $\\left(\\pi_{i}, 1, t_{i}\\right) \\in \\mathcal{K}_{\\mathrm{exp}}=\\left\\{\\left(x_{1}, x_{2}, x_{3}\\right): x_{1} \\geq x_{2} \\exp \\left(x_{3} / x_{2}\\right), x_{2}>0\\right\\} \\cup\\left\\{\\left(x_{1}, 0, x_{3}\\right): x_{1} \\geq 0, x_{3} \\leq 0\\right\\}$, $i=1,2,\\cdots,n$. \n",
                "\n",
                "\n",
                "\n",
                "\n",
                "For each $\\beta$, the inner problem can be then formulated as a conic programming problem,\n",
                "\n",
                "$$\n",
                "\\begin{aligned}\n",
                "&\\max _{\\pi, t} \\sum_{i=1}^{n} t_{i}\\\\\n",
                "\\text { s.t. }&\\left[\\begin{array}{c}\n",
                "1 \\\\\n",
                "-\\lambda \\\\\n",
                "\\vdots \\\\\n",
                "-\\lambda\n",
                "\\end{array}\\right] \\leq\\left[\\begin{array}{cccc}\n",
                "1 & 1 & \\cdots & 1 \\\\\n",
                "h_{11}(\\beta) & h_{21}(\\beta) & \\cdots & h_{n 1}(\\beta) \\\\\n",
                "\\vdots & \\vdots & \\ddots & \\vdots \\\\\n",
                "h_{1 m}(\\beta) & h_{2 m}(\\beta) & \\cdots & h_{n m}(\\beta)\n",
                "\\end{array}\\right]\\left[\\begin{array}{c}\n",
                "\\pi_{1} \\\\\n",
                "\\pi_{2} \\\\\n",
                "\\vdots \\\\\n",
                "\\pi_{n}\n",
                "\\end{array}\\right] \\leq\\left[\\begin{array}{c}\n",
                "1 \\\\\n",
                "\\lambda \\\\\n",
                "\\vdots \\\\\n",
                "\\lambda\n",
                "\\end{array}\\right]\\\\\n",
                "&\\left(\\pi_{i}, 1, t_{i}\\right) \\in \\mathcal{K}_{\\mathrm{exp}}, 0 \\leq \\pi_{i} \\leq 1, \\text { for each } i=1,2, \\cdots, n\n",
                "\\end{aligned}\n",
                "$$\n",
                "\n",
                "To understand the exponential cone, notice that \n",
                "$\\left(\\pi_{i}, 1, t_{i}\\right) \\in \\mathcal{K}_{\\mathrm{exp}}$ is equivalent to\n",
                "$\\{ \\pi_i \\geq \\exp(t_i): \\pi_i\\geq 0, t_i \\leq 0 \\}$. It implies \n",
                "$t_i \\leq \\log \\pi_i$. Since the problem maximizes $\\sum t_i$, we must have \n",
                "$t_i = \\log \\pi_i$. \n",
                "The constrained optimization is readily solvable in `Rmosek` by translating the mathematical expression into computer code.\n"
            ]
        },
        {
            "cell_type": "code",
            "execution_count": null,
            "metadata": {
                "vscode": {
                    "languageId": "r"
                }
            },
            "outputs": [],
            "source": [
                "innerloop <- function(b, y, X, Z, tau) {\n",
                "  n <- nrow(Z)\n",
                "  m <- ncol(Z)\n",
                "\n",
                "  # Generate moment condition\n",
                "  H <- MomentMatrix(y, X, Z, b)\n",
                "\n",
                "  # Initialize the mosek problem\n",
                "  Prob <- list(sense = \"max\")\n",
                "\n",
                "  # Prob$dparam$intpnt_nl_tol_rel_gap <- 1e-5;\n",
                "  Prob$dparam <- list(INTPNT_CO_TOL_REL_GAP = 1e-5)\n",
                "\n",
                "  # Linear coefficients of the objective\n",
                "  Prob$c <- c(rep(0, n), rep(1, n), rep(0, n))\n",
                "\n",
                "  # Linear constraints\n",
                "  H_tilde <- Matrix(rbind(rep(1, n), H), sparse = TRUE)\n",
                "  A <-\n",
                "    rbind(\n",
                "      cbind(H_tilde, Matrix(0, m + 1, 2 * n, sparse = TRUE)),\n",
                "      cbind(Matrix(0, n, 2 * n, sparse = TRUE), Diagonal(n))\n",
                "    )\n",
                "  Prob$A <- A\n",
                "  Prob$bc <-\n",
                "    rbind(c(1, rep(-tau, m), rep(1, n)), c(1, rep(tau, m), rep(1, n)))\n",
                "  Prob$bx <- rbind(\n",
                "    c(rep(0, n), rep(-Inf, n), rep(1, n)),\n",
                "    c(rep(1, n), rep(0, n), rep(1, n))\n",
                "  )\n",
                "\n",
                "  # Exponential Cones\n",
                "  NUMCONES <- n\n",
                "  Prob$cones <- matrix(list(), nrow = 2, ncol = NUMCONES)\n",
                "  rownames(Prob$cones) <- c(\"type\", \"sub\")\n",
                "  for (i in 1:n) {\n",
                "    Prob$cones[, i] <- list(\"PEXP\", c(i, 2 * n + i, n + i))\n",
                "  }\n",
                "\n",
                "  # Invoke Mosek\n",
                "  mosek.out <- mosek(Prob, opts = list(verbose = 0, soldetail = 1))\n",
                "\n",
                "  if (mosek.out$sol$itr$solsta == \"OPTIMAL\") {\n",
                "    # Since the default of NLOPTR is to do minimization, need to set it as negative\n",
                "    return(-mosek.out$sol$itr$pobjval)\n",
                "  } else {\n",
                "    warning(\"WARNING: Inner loop not optimized\")\n",
                "    return(Inf)\n",
                "  }\n",
                "}\n"
            ]
        },
        {
            "cell_type": "markdown",
            "metadata": {},
            "source": [
                "The inner loop optimization can also be carried out by `CVXR`.\n",
                "This code snippet is shorter than easier to read.\n"
            ]
        },
        {
            "cell_type": "code",
            "execution_count": null,
            "metadata": {
                "vscode": {
                    "languageId": "r"
                }
            },
            "outputs": [],
            "source": [
                "innerloop.cvxr <- function(b, y = NULL, X = NULL, Z = NULL, tau = NULL) {\n",
                "  n <- nrow(Z)\n",
                "  m <- ncol(Z)\n",
                "\n",
                "  H <- MomentMatrix(y, X, Z, b)\n",
                "\n",
                "  p <- Variable(n)\n",
                "  constr <- list(\n",
                "    sum(p) == 1,\n",
                "    p >= 0,\n",
                "    p <= 1,\n",
                "    H %*% p >= -tau,\n",
                "    H %*% p <= tau\n",
                "  )\n",
                "\n",
                "  obj <- sum(log(p))\n",
                "  obj <- Maximize(obj)\n",
                "\n",
                "  Prob <- Problem(obj, constr)\n",
                "  cvxr.out <- solve(Prob)\n",
                "\n",
                "  if (cvxr.out$status == \"optimal\") {\n",
                "    return(-cvxr.out$value)\n",
                "  } else {\n",
                "    warning(\"WARNING: Inner loop not optimized\")\n",
                "    return(Inf)\n",
                "  }\n",
                "}\n"
            ]
        },
        {
            "cell_type": "markdown",
            "metadata": {},
            "source": [
                "## Future writing plan\n",
                "\n",
                "* more convex optimization examples, for example Lasso, portfolio optimization (Shi, Su, and Xie 2020)\n",
                "* Add `ROI`.\n",
                "\n",
                "## Reading\n",
                "\n",
                "* @fu2018cvxr\n",
                "* @gao2018two\n",
                "* @epubwu5858\n",
                "\n",
                "\n",
                "## References\n"
            ]
        }
    ],
    "metadata": {
        "anaconda-cloud": "",
        "kernelspec": {
            "display_name": "R",
            "langauge": "R",
            "name": "ir"
        },
        "language_info": {
            "codemirror_mode": "r",
            "file_extension": ".r",
            "mimetype": "text/x-r-source",
            "name": "R",
            "pygments_lexer": "r",
            "version": "3.4.1"
        }
    },
    "nbformat": 4,
    "nbformat_minor": 1
}
