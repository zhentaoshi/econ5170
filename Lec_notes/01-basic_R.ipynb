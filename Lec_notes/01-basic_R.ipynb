{
 "cells": [
  {
   "cell_type": "markdown",
   "metadata": {},
   "source": [
    "# Basic R\n",
    "\n",
    "\n",
    "\n",
    "\n",
    "## Introduction\n",
    "\n",
    "One cannot acquire a new programming language without investing numerous hours.\n",
    "[R-Introduction](https://cran.r-project.org/doc/manuals/r-release/R-intro.pdf) is an official manual\n",
    "maintained by the R core team.\n",
    "It was the first document that I perused painstakingly when I began to learn R in 2005.\n",
    "After so many years, this is still the best starting point for you to have a taste.\n",
    "\n",
    "This lecture quickly sketches some key points of the manual, while you should carefully go over R-Introduction\n",
    "after today's lecture.\n",
    "\n",
    "## Help System\n",
    "\n",
    "The help system is the first thing we must learn for a new language.\n",
    "In R, if we know the exact name of a function and want to check its usage, we can either call `help(function_name)` or a single question mark `?function_name`.\n",
    "If we do not know the exact function name, we can instead use the double question mark `??key_words`. It will provide a list of related function names from a fuzzy search.\n",
    "\n",
    "**Example**: `?seq`, `??sequence`\n",
    "\n",
    "\n",
    "## Vector\n",
    "\n",
    "A *vector* is a collection of elements of the same type, say, integer, logical value, real number, complex number, characters or factor.R does not require explicit type declaration.\n",
    "\n",
    " `<-` assigns the value on its right-hand side to a self-defined variable name on its left-hand side. `=` is an alternative for assignment.\n",
    "\n",
    " `c()`  combines two or more vectors into a long vector.\n",
    "\n",
    "\n",
    "Binary arithmetic operations `+`, `-`, `*` and `/` are performed element by element by default.\n",
    "So are the binary logical operations `&` `|` `!=`.\n",
    "\n",
    "*Factor* is a categorical number. *Character* is text.\n",
    "\n",
    "Missing values in R is represented as `NA` (Not Available). When some operations are not allowed, say, `log(-1)`, R returns  `NaN` (Not a Number).\n",
    "\n",
    "Vector selection is specified in square bracket `a[ ]` by either positive integer or logical vector.\n",
    "The index initiates from 1, not 0 (Python's rule). \n",
    "\n",
    "**Example**\n",
    "\n",
    "Logical vector operation.\n"
   ]
  },
  {
   "cell_type": "code",
   "execution_count": null,
   "metadata": {
    "vscode": {
     "languageId": "r"
    }
   },
   "outputs": [],
   "source": [
    "# logical vectors\n",
    "logi_1 <- c(T, T, F)\n",
    "logi_2 <- c(F, T, T)\n",
    "\n",
    "logi_12 <- logi_1 & logi_2\n",
    "print(logi_12)\n"
   ]
  },
  {
   "cell_type": "markdown",
   "metadata": {},
   "source": [
    "## Array and Matrix\n",
    "\n",
    "An array is a table of numbers.  \n",
    "A matrix is a 2-dimensional array.\n",
    "\n",
    "* array arithmetic: element-by-element. Caution must be exercised in binary operations involving two objects of different length. This is error-prone.\n",
    "* `%*%`, `solve`, `eigen`\n",
    "\n",
    "**Example**\n",
    "\n",
    "OLS estimation with one $x$ regressor and a constant.\n",
    "Graduate textbook expresses the OLS in matrix form\n",
    "\n",
    "$$\n",
    "\\hat{\\beta} = (X' X)^{-1} X'y.\n",
    "$$\n",
    "\n",
    "To conduct OLS estimation in R, we literally translate the mathematical expression into code.\n",
    "\n",
    "Step 1: We need data $Y$ and $X$ to run OLS. We simulate an artificial dataset.\n"
   ]
  },
  {
   "cell_type": "code",
   "execution_count": null,
   "metadata": {
    "vscode": {
     "languageId": "r"
    }
   },
   "outputs": [],
   "source": [
    "# simulate data\n",
    "rm(list = ls())\n",
    "set.seed(111) # can be removed to allow the result to change\n",
    "\n",
    "# set the parameters\n",
    "n <- 100\n",
    "b0 <- matrix(1, nrow = 2)\n",
    "\n",
    "# generate the data\n",
    "e <- rnorm(n)\n",
    "X <- cbind(1, rnorm(n))\n",
    "Y <- X %*% b0 + e\n"
   ]
  },
  {
   "cell_type": "markdown",
   "metadata": {},
   "source": [
    "Step 2: translate the formula to code\n"
   ]
  },
  {
   "cell_type": "code",
   "execution_count": null,
   "metadata": {
    "vscode": {
     "languageId": "r"
    }
   },
   "outputs": [],
   "source": [
    "# OLS estimation\n",
    "bhat <- solve(t(X) %*% X, t(X) %*% Y)\n"
   ]
  },
  {
   "cell_type": "markdown",
   "metadata": {},
   "source": [
    "Step 3 (additional): plot the regression graph with the scatter points and the regression line.\n",
    "Further compare the regression line (black) with the true coefficient line (red).\n"
   ]
  },
  {
   "cell_type": "code",
   "execution_count": null,
   "metadata": {
    "vscode": {
     "languageId": "r"
    }
   },
   "outputs": [],
   "source": [
    "# plot\n",
    "plot(y = Y, x = X[, 2], xlab = \"X\", ylab = \"Y\", main = \"regression\")\n",
    "abline(a = bhat[1], b = bhat[2])\n",
    "abline(a = b0[1], b = b0[2], col = \"red\")\n",
    "abline(h = 0, lty = 2)\n",
    "abline(v = 0, lty = 2)\n"
   ]
  },
  {
   "cell_type": "markdown",
   "metadata": {},
   "source": [
    "Step 4: In econometrics we are often interested in hypothesis testing.\n",
    "The *t*-statistic is widely used.\n",
    "To test the null $H_0: \\beta_2 = 1$, we compute the associated *t*-statistic.\n",
    "Again, this is a translation.\n",
    "\n",
    "$$\n",
    "t  =  \\frac{\\hat{\\beta}_2 - \\beta_{02}}{ \\hat{\\sigma}_{\\hat{\\beta}_2}  }\n",
    "   =  \\frac{\\hat{\\beta}_2 - \\beta_{02}}{ \\sqrt{ \\left[ (X'X)^{-1} \\hat{\\sigma}^2 \\right]_{22} } }.\n",
    "$$\n",
    "\n",
    "where $[\\cdot]_{22}$ is the (2,2)-element of a matrix.\n"
   ]
  },
  {
   "cell_type": "code",
   "execution_count": null,
   "metadata": {
    "vscode": {
     "languageId": "r"
    }
   },
   "outputs": [],
   "source": [
    "# calculate the t-value\n",
    "bhat2 <- bhat[2] # the parameter we want to test\n",
    "e_hat <- Y - X %*% bhat\n",
    "sigma_hat_square <- sum(e_hat^2) / (n - 2)\n",
    "Sigma_B <- solve(t(X) %*% X) * sigma_hat_square\n",
    "t_value_2 <- (bhat2 - b0[2]) / sqrt(Sigma_B[2, 2])\n",
    "cat(\"The t-statistic =\", t_value_2)\n"
   ]
  },
  {
   "cell_type": "markdown",
   "metadata": {},
   "source": [
    "## Package\n",
    "\n",
    "A pure clean installation of R is small, but R has an extensive ecosystem of add-on packages.\n",
    "This is the unique treasure for R users, and other languages like Python or MATLAB are not even close.\n",
    "Most packages are hosted on [CRAN](https://cran.r-project.org/web/packages/).\n",
    "A common practice today is that statisticians upload a package to CRAN after they write or publish a paper with a new statistical method.\n",
    "They promote their work via CRAN, and users have easy access to the state-of-the-art methods.\n",
    "\n",
    "\n",
    "A package can be installed by\n",
    "`install.packages(\"package_name\")`. To invoke a function of a package, we can either call the function name after import the package by `library(package_name)` into the current session, or use \n",
    "`package_name::function_name`. The former imports all functions in the package, and sometimes\n",
    "can cause conflict with other functions of the same name. The latter method is preferred to \n",
    "keep the environment clean.\n",
    "\n",
    "[Applied Econometrics with R](http://www.springer.com/gp/book/9780387773162) by Christian Kleiber and Achim Zeileis is a useful book.\n",
    "It also has a companion package\n",
    "`AER` that contains popular econometric methods such as instrumental variable regression and robust variance.\n",
    "\n",
    "Before we can \"knit\" in R-studio the Rmd file to produce the pdf document you are reading at this moment,\n",
    "we have to install several packages such as [knitr](https://yihui.name/knitr/) and those it depends on.\n",
    "\n",
    "## Mixed Data Types\n",
    "\n",
    "A vector only contains one type of elements.\n",
    "*list* is a basket for objects of various types.\n",
    "It can serve as a container when a procedure returns more than one useful object.\n",
    "For example, when we invoke `eigen`, we are\n",
    "interested in both eigenvalues and eigenvectors,\n",
    "which are stored into `$value` and `$vector`, respectively.\n",
    "\n",
    "*data.frame* is a two-dimensional table that stores the data, similar to a spreadsheet in Excel.\n",
    "A matrix is also a two-dimensional table, but it only accommodates one type of elements.\n",
    "Real world data can be a collection of integers, real numbers, characters, categorical numbers and so on.\n",
    "Data frame is the default way to organize data of mixed type in R. `tibble` is a new and refined\n",
    "alternative data frame type.\n",
    "\n",
    "**Example**\n",
    "\n",
    "This is a data set in a graduate-level econometrics textbook. We load the data into memory and display the first 6 records.\n"
   ]
  },
  {
   "cell_type": "code",
   "execution_count": null,
   "metadata": {
    "vscode": {
     "languageId": "r"
    }
   },
   "outputs": [],
   "source": [
    "library(AER)\n",
    "data(\"CreditCard\")\n",
    "head(CreditCard)\n",
    "head(tibble::as_tibble(CreditCard))\n"
   ]
  },
  {
   "cell_type": "markdown",
   "metadata": {},
   "source": [
    "## Input and Output\n",
    "\n",
    "Raw data is often saved in ASCII file or Excel.\n",
    "I discourage the use of Excel spreadsheet in data analysis, because the underlying structure of an\n",
    "Excel file is too complicated for statistical software to read.\n",
    "I recommend the use of `csv` format, a plain ASCII file format.\n",
    "\n",
    "`read.table()` or `read.csv()` imports data from an ASCII file into an R session.\n",
    "`write.table()` or `write.csv()` exports the data in an R session to an ASCII file.\n",
    "\n",
    "**Example**\n",
    "\n",
    "Besides loading a data file on the local hard disk, We can directly download data from internet.\n",
    "Here we show how to retrieve the stock daily data of *Apple Inc.* from *Yahoo Finance*, and save the dataset locally. A package called `quantmod` is used.\n"
   ]
  },
  {
   "cell_type": "code",
   "execution_count": null,
   "metadata": {
    "vscode": {
     "languageId": "r"
    }
   },
   "outputs": [],
   "source": [
    "quantmod::getSymbols(\"AAPL\", src = \"yahoo\")\n",
    "tail(AAPL)\n",
    "plot(AAPL$AAPL.Close)\n"
   ]
  },
  {
   "cell_type": "markdown",
   "metadata": {},
   "source": [
    "\n",
    "Another example: [Quarterly US Industrial Production Index](https://fred.stlouisfed.org/series/IPB50001SQ)\n"
   ]
  },
  {
   "cell_type": "code",
   "execution_count": null,
   "metadata": {
    "vscode": {
     "languageId": "r"
    }
   },
   "outputs": [],
   "source": [
    "quantmod::getSymbols.FRED(Symbols = c(\"IPB50001SQ\"), env = .GlobalEnv)\n",
    "plot(IPB50001SQ)\n"
   ]
  },
  {
   "cell_type": "markdown",
   "metadata": {},
   "source": [
    "## Statistics\n",
    "\n",
    "R is a language created by statisticians.\n",
    "It has elegant built-in statistical functions.\n",
    "`p` (probability), `d` (density for a continuous random variable, or mass for a discrete random variable), `q` (quantile), `r` (random variable generator) are used ahead of the name of a probability distribution, such as `norm` (normal), `chisq` ($\\chi^2$), `t` (*t*),\n",
    "`weibull` (Weibull), `cauchy` (Cauchy), `binomial` (binomial), `pois` (Poisson), to name a few.\n",
    "\n",
    "**Example**\n",
    "\n",
    "This example illustrates the sampling error.\n",
    "\n",
    "1. Plot the density of $\\chi^2(3)$ over an equally spaced grid system `x_axis = seq(0.01, 15, by = 0.01)` (black line).\n",
    "2. Generate 1000 observations from $\\chi^2(3)$ distribution. Plot the kernel density, a nonparametric estimation of the density (red line).\n",
    "3. Calculate the 95th quantile and the empirical probability of observing a value greater than the 95-th quantile.\n",
    "In population, this value should be 5%. What is the number in this experiment?\n"
   ]
  },
  {
   "cell_type": "code",
   "execution_count": null,
   "metadata": {
    "vscode": {
     "languageId": "r"
    }
   },
   "outputs": [],
   "source": [
    "set.seed(888)\n",
    "x_axis <- seq(0.01, 15, by = 0.01)\n",
    "\n",
    "y <- dchisq(x_axis, df = 3)\n",
    "plot(y = y, x = x_axis, type = \"l\", xlab = \"x\", ylab = \"density\")\n",
    "z <- rchisq(1000, df = 3)\n",
    "lines(density(z), col = \"red\")\n",
    "crit <- qchisq(.95, df = 3)\n",
    "\n",
    "mean(z > crit)\n"
   ]
  },
  {
   "cell_type": "markdown",
   "metadata": {},
   "source": [
    "## User-defined Function\n",
    "\n",
    "R has numerous built-in functions. However, in practice we will almost always have some  \n",
    "DIY functionality to be used repeatedly. It is highly recommended to encapsulate it into a user-defined function.\n",
    "There are important advantages:\n",
    "\n",
    "1. In the developing stage, it allows us to focus on a small chunk of code. It cuts an overwhelmingly big project into manageable pieces.\n",
    "2. A long script can have hundreds or thousands of variables. Variables defined inside a function are local. They will not be mixed up with those outside of a function. Only the input and the output of a function have interaction with the outside world.\n",
    "3. If a revision is necessary, We just need to change one place. We don't have to repeat the work in every place where it is invoked.\n",
    "\n",
    "The format of a user-defined function in R is\n"
   ]
  },
  {
   "cell_type": "code",
   "execution_count": null,
   "metadata": {
    "vscode": {
     "languageId": "r"
    }
   },
   "outputs": [],
   "source": [
    "function_name <- function(input) {\n",
    "  expressions\n",
    "  return(output)\n",
    "}\n"
   ]
  },
  {
   "cell_type": "markdown",
   "metadata": {},
   "source": [
    "**Example**\n",
    "\n",
    "If the central limit theorem is applicable, then\n",
    "we can calculate the 95% two-sided asymptotic confidence interval as\n",
    "\n",
    "$$\n",
    "\\left(\\hat{\\mu} - \\frac{1.96}{\\sqrt{n}} \\hat{\\sigma}, \\hat{\\mu} + \\frac{1.96}{\\sqrt{n}} \\hat{\\sigma} \\right)\n",
    "$$\n",
    "\n",
    "from a given sample.\n",
    "It is an easy job, but I am not aware there is a built-in function in R to do this.\n"
   ]
  },
  {
   "cell_type": "code",
   "execution_count": null,
   "metadata": {
    "vscode": {
     "languageId": "r"
    }
   },
   "outputs": [],
   "source": [
    "# construct confidence interval\n",
    "\n",
    "CI <- function(x) {\n",
    "  # x is a vector of random variables\n",
    "\n",
    "  n <- length(x)\n",
    "  mu <- mean(x)\n",
    "  sig <- sd(x)\n",
    "  upper <- mu + 1.96 / sqrt(n) * sig\n",
    "  lower <- mu - 1.96 / sqrt(n) * sig\n",
    "  return(list(lower = lower, upper = upper))\n",
    "}\n"
   ]
  },
  {
   "cell_type": "markdown",
   "metadata": {},
   "source": [
    "## Flow Control\n",
    "\n",
    "Flow control is common in all programming languages.\n",
    "`if` is used for choice, and `for` or `while` is used for loops.\n",
    "\n",
    "**Example**\n",
    "\n",
    "Calculate the empirical coverage probability of a Poisson distribution of degrees of freedom 2.\n",
    "We conduct this experiment for 1000 times.\n"
   ]
  },
  {
   "cell_type": "code",
   "execution_count": null,
   "metadata": {
    "vscode": {
     "languageId": "r"
    }
   },
   "outputs": [],
   "source": [
    "Rep <- 1000\n",
    "sample_size <- 100\n",
    "capture <- rep(0, Rep)\n",
    "\n",
    "for (i in 1:Rep) {\n",
    "  mu <- 2\n",
    "  x <- rpois(sample_size, mu)\n",
    "  bounds <- CI(x)\n",
    "  capture[i] <- ((bounds$lower <= mu) & (mu <= bounds$upper))\n",
    "}\n",
    "cat(\"the emprical size = \", mean(capture)) # empirical size\n"
   ]
  },
  {
   "cell_type": "markdown",
   "metadata": {},
   "source": [
    "## Statistical Model\n",
    "\n",
    "Statistical models are formulated as `y~x`, where `y` on the left-hand side is the dependent variable,\n",
    "and `x` on the right-hand side is the explanatory variable.\n",
    "The built-in OLS function is `lm`. It is called by `lm(y~x, data = data_frame)`.\n",
    "\n",
    "All built-in regression functions in R share the same structure. Once one type of regression is understood,\n",
    "it is easy to extend to other regressions.\n",
    "\n",
    "### A Linear Regression Example\n",
    "\n",
    "This is a toy example with simulated data.\n"
   ]
  },
  {
   "cell_type": "code",
   "execution_count": null,
   "metadata": {
    "vscode": {
     "languageId": "r"
    }
   },
   "outputs": [],
   "source": [
    "T <- 100\n",
    "p <- 1\n",
    "\n",
    "b0 <- 1\n",
    "# Generate data\n",
    "x <- matrix(rnorm(T * p), T, 1)\n",
    "y <- x %*% b0 + rnorm(T)\n",
    "\n",
    "# Linear Model\n",
    "result <- lm(y ~ x)\n",
    "summary(result)\n"
   ]
  },
  {
   "cell_type": "markdown",
   "metadata": {},
   "source": [
    "The `result` object is a list containing the regression results. As shown in the results, we can easily read the estimated coefficients, t-test results, F-test results, and the R-squared.\n",
    "\n",
    "We can plot the true value of $y$ and fitted value to examine whether the regression model fit the data well.\n"
   ]
  },
  {
   "cell_type": "code",
   "execution_count": null,
   "metadata": {
    "vscode": {
     "languageId": "r"
    }
   },
   "outputs": [],
   "source": [
    "plot(result$fitted.values,\n",
    "  col = \"red\", type = \"l\", xlab = \"x\", ylab = \"y\",\n",
    "  main = \"Fitted Value\"\n",
    ")\n",
    "lines(y, col = \"blue\", type = \"l\", lty = 2)\n",
    "legend(\"bottomleft\",\n",
    "  legend = c(\"Fitted Value\", \"True Value\"),\n",
    "  col = c(\"red\", \"blue\"), lty = 1:2, cex = 0.75\n",
    ")\n"
   ]
  },
  {
   "cell_type": "markdown",
   "metadata": {},
   "source": [
    "\n",
    "Then we plot the best fitted line.\n"
   ]
  },
  {
   "cell_type": "code",
   "execution_count": null,
   "metadata": {
    "vscode": {
     "languageId": "r"
    }
   },
   "outputs": [],
   "source": [
    "plot(y = y, x = x, xlab = \"x\", ylab = \"y\", main = \"Fitted Line\")\n",
    "abline(a = result$coefficients[1], b = result$coefficients[2])\n",
    "abline(a = 0, b = b0, col = \"red\")\n",
    "\n",
    "legend(\"bottomright\",\n",
    "  legend = c(\"Fitted Line\", \"True Coef\"),\n",
    "  col = c(\"black\", \"red\"), lty = c(1, 1), cex = 0.75\n",
    ")\n"
   ]
  },
  {
   "cell_type": "markdown",
   "metadata": {},
   "source": [
    "Here we give another example about the relationship between the height and weight of women.\n",
    "The women dataset is from the package `datasets`, which is a built-in package shipped with R installation.\n",
    "This package contains a variety of datasets. For a complete list, use `library(help = \"datasets\")`\n"
   ]
  },
  {
   "cell_type": "code",
   "execution_count": null,
   "metadata": {
    "vscode": {
     "languageId": "r"
    }
   },
   "outputs": [],
   "source": [
    "# univariate\n",
    "reg1 <- lm(height ~ weight, data = women)\n",
    "\n",
    "# multivariate\n",
    "reg2 <- lm(height ~ weight + I(weight^2), data = women)\n",
    "# \"weight^2\" is a square term.\n",
    "# \"I()\" is used to inhibit the formula operator \"+\"\n",
    "# from being interpreted as an arithmetical one.\n",
    "\n",
    "summary(reg1)\n",
    "summary(reg2)\n"
   ]
  },
  {
   "cell_type": "markdown",
   "metadata": {},
   "source": [
    "## Reading\n",
    "\n",
    "[Wickham and Grolemund](https://r4ds.had.co.nz/): Ch 1, 2, 4, 8, 19 and 20\n"
   ]
  }
 ],
 "metadata": {
  "anaconda-cloud": "",
  "kernelspec": {
   "display_name": "R",
   "language": "R",
   "name": "ir"
  },
  "language_info": {
   "codemirror_mode": "r",
   "file_extension": ".r",
   "mimetype": "text/x-r-source",
   "name": "R",
   "pygments_lexer": "r",
   "version": "3.5.3"
  }
 },
 "nbformat": 4,
 "nbformat_minor": 1
}
